{
  "nbformat": 4,
  "nbformat_minor": 0,
  "metadata": {
    "colab": {
      "provenance": []
    },
    "kernelspec": {
      "name": "python3",
      "display_name": "Python 3"
    },
    "language_info": {
      "name": "python"
    },
    "widgets": {
      "application/vnd.jupyter.widget-state+json": {
        "da8300f564024a3fbe009ce2435d73d4": {
          "model_module": "@jupyter-widgets/controls",
          "model_name": "HBoxModel",
          "model_module_version": "1.5.0",
          "state": {
            "_dom_classes": [],
            "_model_module": "@jupyter-widgets/controls",
            "_model_module_version": "1.5.0",
            "_model_name": "HBoxModel",
            "_view_count": null,
            "_view_module": "@jupyter-widgets/controls",
            "_view_module_version": "1.5.0",
            "_view_name": "HBoxView",
            "box_style": "",
            "children": [
              "IPY_MODEL_48bb91a2fb254a61aef0c1630b413707",
              "IPY_MODEL_8c6ff93e61ba411eb19fffdfba905f05",
              "IPY_MODEL_f6022427f0e64b11a528ff3cb9962265"
            ],
            "layout": "IPY_MODEL_7cecd7b987c9482d809ec61e5bd34389"
          }
        },
        "48bb91a2fb254a61aef0c1630b413707": {
          "model_module": "@jupyter-widgets/controls",
          "model_name": "HTMLModel",
          "model_module_version": "1.5.0",
          "state": {
            "_dom_classes": [],
            "_model_module": "@jupyter-widgets/controls",
            "_model_module_version": "1.5.0",
            "_model_name": "HTMLModel",
            "_view_count": null,
            "_view_module": "@jupyter-widgets/controls",
            "_view_module_version": "1.5.0",
            "_view_name": "HTMLView",
            "description": "",
            "description_tooltip": null,
            "layout": "IPY_MODEL_062f627d87704b0e9958c7aa6289f725",
            "placeholder": "​",
            "style": "IPY_MODEL_f33c8b7dd33645cdab22ecc989732f62",
            "value": "Crunching +ve samples: 100%"
          }
        },
        "8c6ff93e61ba411eb19fffdfba905f05": {
          "model_module": "@jupyter-widgets/controls",
          "model_name": "FloatProgressModel",
          "model_module_version": "1.5.0",
          "state": {
            "_dom_classes": [],
            "_model_module": "@jupyter-widgets/controls",
            "_model_module_version": "1.5.0",
            "_model_name": "FloatProgressModel",
            "_view_count": null,
            "_view_module": "@jupyter-widgets/controls",
            "_view_module_version": "1.5.0",
            "_view_name": "ProgressView",
            "bar_style": "success",
            "description": "",
            "description_tooltip": null,
            "layout": "IPY_MODEL_c02f96ece115455391fc1dc94c4afd0c",
            "max": 2500,
            "min": 0,
            "orientation": "horizontal",
            "style": "IPY_MODEL_15504456b0224d2b860aa70c6600b619",
            "value": 2500
          }
        },
        "f6022427f0e64b11a528ff3cb9962265": {
          "model_module": "@jupyter-widgets/controls",
          "model_name": "HTMLModel",
          "model_module_version": "1.5.0",
          "state": {
            "_dom_classes": [],
            "_model_module": "@jupyter-widgets/controls",
            "_model_module_version": "1.5.0",
            "_model_name": "HTMLModel",
            "_view_count": null,
            "_view_module": "@jupyter-widgets/controls",
            "_view_module_version": "1.5.0",
            "_view_name": "HTMLView",
            "description": "",
            "description_tooltip": null,
            "layout": "IPY_MODEL_121eb061672c45e5aed4202a721f4b6b",
            "placeholder": "​",
            "style": "IPY_MODEL_b0ebbdedd9184a5a814ebd641dc3516d",
            "value": " 2500/2500 [00:17&lt;00:00, 115.13it/s]"
          }
        },
        "7cecd7b987c9482d809ec61e5bd34389": {
          "model_module": "@jupyter-widgets/base",
          "model_name": "LayoutModel",
          "model_module_version": "1.2.0",
          "state": {
            "_model_module": "@jupyter-widgets/base",
            "_model_module_version": "1.2.0",
            "_model_name": "LayoutModel",
            "_view_count": null,
            "_view_module": "@jupyter-widgets/base",
            "_view_module_version": "1.2.0",
            "_view_name": "LayoutView",
            "align_content": null,
            "align_items": null,
            "align_self": null,
            "border": null,
            "bottom": null,
            "display": null,
            "flex": null,
            "flex_flow": null,
            "grid_area": null,
            "grid_auto_columns": null,
            "grid_auto_flow": null,
            "grid_auto_rows": null,
            "grid_column": null,
            "grid_gap": null,
            "grid_row": null,
            "grid_template_areas": null,
            "grid_template_columns": null,
            "grid_template_rows": null,
            "height": null,
            "justify_content": null,
            "justify_items": null,
            "left": null,
            "margin": null,
            "max_height": null,
            "max_width": null,
            "min_height": null,
            "min_width": null,
            "object_fit": null,
            "object_position": null,
            "order": null,
            "overflow": null,
            "overflow_x": null,
            "overflow_y": null,
            "padding": null,
            "right": null,
            "top": null,
            "visibility": null,
            "width": null
          }
        },
        "062f627d87704b0e9958c7aa6289f725": {
          "model_module": "@jupyter-widgets/base",
          "model_name": "LayoutModel",
          "model_module_version": "1.2.0",
          "state": {
            "_model_module": "@jupyter-widgets/base",
            "_model_module_version": "1.2.0",
            "_model_name": "LayoutModel",
            "_view_count": null,
            "_view_module": "@jupyter-widgets/base",
            "_view_module_version": "1.2.0",
            "_view_name": "LayoutView",
            "align_content": null,
            "align_items": null,
            "align_self": null,
            "border": null,
            "bottom": null,
            "display": null,
            "flex": null,
            "flex_flow": null,
            "grid_area": null,
            "grid_auto_columns": null,
            "grid_auto_flow": null,
            "grid_auto_rows": null,
            "grid_column": null,
            "grid_gap": null,
            "grid_row": null,
            "grid_template_areas": null,
            "grid_template_columns": null,
            "grid_template_rows": null,
            "height": null,
            "justify_content": null,
            "justify_items": null,
            "left": null,
            "margin": null,
            "max_height": null,
            "max_width": null,
            "min_height": null,
            "min_width": null,
            "object_fit": null,
            "object_position": null,
            "order": null,
            "overflow": null,
            "overflow_x": null,
            "overflow_y": null,
            "padding": null,
            "right": null,
            "top": null,
            "visibility": null,
            "width": null
          }
        },
        "f33c8b7dd33645cdab22ecc989732f62": {
          "model_module": "@jupyter-widgets/controls",
          "model_name": "DescriptionStyleModel",
          "model_module_version": "1.5.0",
          "state": {
            "_model_module": "@jupyter-widgets/controls",
            "_model_module_version": "1.5.0",
            "_model_name": "DescriptionStyleModel",
            "_view_count": null,
            "_view_module": "@jupyter-widgets/base",
            "_view_module_version": "1.2.0",
            "_view_name": "StyleView",
            "description_width": ""
          }
        },
        "c02f96ece115455391fc1dc94c4afd0c": {
          "model_module": "@jupyter-widgets/base",
          "model_name": "LayoutModel",
          "model_module_version": "1.2.0",
          "state": {
            "_model_module": "@jupyter-widgets/base",
            "_model_module_version": "1.2.0",
            "_model_name": "LayoutModel",
            "_view_count": null,
            "_view_module": "@jupyter-widgets/base",
            "_view_module_version": "1.2.0",
            "_view_name": "LayoutView",
            "align_content": null,
            "align_items": null,
            "align_self": null,
            "border": null,
            "bottom": null,
            "display": null,
            "flex": null,
            "flex_flow": null,
            "grid_area": null,
            "grid_auto_columns": null,
            "grid_auto_flow": null,
            "grid_auto_rows": null,
            "grid_column": null,
            "grid_gap": null,
            "grid_row": null,
            "grid_template_areas": null,
            "grid_template_columns": null,
            "grid_template_rows": null,
            "height": null,
            "justify_content": null,
            "justify_items": null,
            "left": null,
            "margin": null,
            "max_height": null,
            "max_width": null,
            "min_height": null,
            "min_width": null,
            "object_fit": null,
            "object_position": null,
            "order": null,
            "overflow": null,
            "overflow_x": null,
            "overflow_y": null,
            "padding": null,
            "right": null,
            "top": null,
            "visibility": null,
            "width": null
          }
        },
        "15504456b0224d2b860aa70c6600b619": {
          "model_module": "@jupyter-widgets/controls",
          "model_name": "ProgressStyleModel",
          "model_module_version": "1.5.0",
          "state": {
            "_model_module": "@jupyter-widgets/controls",
            "_model_module_version": "1.5.0",
            "_model_name": "ProgressStyleModel",
            "_view_count": null,
            "_view_module": "@jupyter-widgets/base",
            "_view_module_version": "1.2.0",
            "_view_name": "StyleView",
            "bar_color": null,
            "description_width": ""
          }
        },
        "121eb061672c45e5aed4202a721f4b6b": {
          "model_module": "@jupyter-widgets/base",
          "model_name": "LayoutModel",
          "model_module_version": "1.2.0",
          "state": {
            "_model_module": "@jupyter-widgets/base",
            "_model_module_version": "1.2.0",
            "_model_name": "LayoutModel",
            "_view_count": null,
            "_view_module": "@jupyter-widgets/base",
            "_view_module_version": "1.2.0",
            "_view_name": "LayoutView",
            "align_content": null,
            "align_items": null,
            "align_self": null,
            "border": null,
            "bottom": null,
            "display": null,
            "flex": null,
            "flex_flow": null,
            "grid_area": null,
            "grid_auto_columns": null,
            "grid_auto_flow": null,
            "grid_auto_rows": null,
            "grid_column": null,
            "grid_gap": null,
            "grid_row": null,
            "grid_template_areas": null,
            "grid_template_columns": null,
            "grid_template_rows": null,
            "height": null,
            "justify_content": null,
            "justify_items": null,
            "left": null,
            "margin": null,
            "max_height": null,
            "max_width": null,
            "min_height": null,
            "min_width": null,
            "object_fit": null,
            "object_position": null,
            "order": null,
            "overflow": null,
            "overflow_x": null,
            "overflow_y": null,
            "padding": null,
            "right": null,
            "top": null,
            "visibility": null,
            "width": null
          }
        },
        "b0ebbdedd9184a5a814ebd641dc3516d": {
          "model_module": "@jupyter-widgets/controls",
          "model_name": "DescriptionStyleModel",
          "model_module_version": "1.5.0",
          "state": {
            "_model_module": "@jupyter-widgets/controls",
            "_model_module_version": "1.5.0",
            "_model_name": "DescriptionStyleModel",
            "_view_count": null,
            "_view_module": "@jupyter-widgets/base",
            "_view_module_version": "1.2.0",
            "_view_name": "StyleView",
            "description_width": ""
          }
        },
        "a85c34e331f54b929b5be4da2b90683e": {
          "model_module": "@jupyter-widgets/controls",
          "model_name": "HBoxModel",
          "model_module_version": "1.5.0",
          "state": {
            "_dom_classes": [],
            "_model_module": "@jupyter-widgets/controls",
            "_model_module_version": "1.5.0",
            "_model_name": "HBoxModel",
            "_view_count": null,
            "_view_module": "@jupyter-widgets/controls",
            "_view_module_version": "1.5.0",
            "_view_name": "HBoxView",
            "box_style": "",
            "children": [
              "IPY_MODEL_567646e4d6274b97affedf397318b17c",
              "IPY_MODEL_e5427fff0945477292f0ecba1da295df",
              "IPY_MODEL_1e76c3661efa4245af8116251bac94d2"
            ],
            "layout": "IPY_MODEL_462f5cf17bd64d309f417d4c79599af6"
          }
        },
        "567646e4d6274b97affedf397318b17c": {
          "model_module": "@jupyter-widgets/controls",
          "model_name": "HTMLModel",
          "model_module_version": "1.5.0",
          "state": {
            "_dom_classes": [],
            "_model_module": "@jupyter-widgets/controls",
            "_model_module_version": "1.5.0",
            "_model_name": "HTMLModel",
            "_view_count": null,
            "_view_module": "@jupyter-widgets/controls",
            "_view_module_version": "1.5.0",
            "_view_name": "HTMLView",
            "description": "",
            "description_tooltip": null,
            "layout": "IPY_MODEL_ea1f57a9c7d948e8b669dd71bbf195e6",
            "placeholder": "​",
            "style": "IPY_MODEL_6061719ef9a7434399a5a3f1fb6b1342",
            "value": "Crunching -ve samples: 100%"
          }
        },
        "e5427fff0945477292f0ecba1da295df": {
          "model_module": "@jupyter-widgets/controls",
          "model_name": "FloatProgressModel",
          "model_module_version": "1.5.0",
          "state": {
            "_dom_classes": [],
            "_model_module": "@jupyter-widgets/controls",
            "_model_module_version": "1.5.0",
            "_model_name": "FloatProgressModel",
            "_view_count": null,
            "_view_module": "@jupyter-widgets/controls",
            "_view_module_version": "1.5.0",
            "_view_name": "ProgressView",
            "bar_style": "success",
            "description": "",
            "description_tooltip": null,
            "layout": "IPY_MODEL_fdd52e9effed4a6d8b6e943ab77fc0b8",
            "max": 2500,
            "min": 0,
            "orientation": "horizontal",
            "style": "IPY_MODEL_77be8a96f37c4c2bb30e6fbb3fff7172",
            "value": 2500
          }
        },
        "1e76c3661efa4245af8116251bac94d2": {
          "model_module": "@jupyter-widgets/controls",
          "model_name": "HTMLModel",
          "model_module_version": "1.5.0",
          "state": {
            "_dom_classes": [],
            "_model_module": "@jupyter-widgets/controls",
            "_model_module_version": "1.5.0",
            "_model_name": "HTMLModel",
            "_view_count": null,
            "_view_module": "@jupyter-widgets/controls",
            "_view_module_version": "1.5.0",
            "_view_name": "HTMLView",
            "description": "",
            "description_tooltip": null,
            "layout": "IPY_MODEL_1bbea0b668b54988b152960a5feaaf05",
            "placeholder": "​",
            "style": "IPY_MODEL_0d7afe9ad32d4a178be3d3005597f460",
            "value": " 2500/2500 [00:15&lt;00:00, 116.12it/s]"
          }
        },
        "462f5cf17bd64d309f417d4c79599af6": {
          "model_module": "@jupyter-widgets/base",
          "model_name": "LayoutModel",
          "model_module_version": "1.2.0",
          "state": {
            "_model_module": "@jupyter-widgets/base",
            "_model_module_version": "1.2.0",
            "_model_name": "LayoutModel",
            "_view_count": null,
            "_view_module": "@jupyter-widgets/base",
            "_view_module_version": "1.2.0",
            "_view_name": "LayoutView",
            "align_content": null,
            "align_items": null,
            "align_self": null,
            "border": null,
            "bottom": null,
            "display": null,
            "flex": null,
            "flex_flow": null,
            "grid_area": null,
            "grid_auto_columns": null,
            "grid_auto_flow": null,
            "grid_auto_rows": null,
            "grid_column": null,
            "grid_gap": null,
            "grid_row": null,
            "grid_template_areas": null,
            "grid_template_columns": null,
            "grid_template_rows": null,
            "height": null,
            "justify_content": null,
            "justify_items": null,
            "left": null,
            "margin": null,
            "max_height": null,
            "max_width": null,
            "min_height": null,
            "min_width": null,
            "object_fit": null,
            "object_position": null,
            "order": null,
            "overflow": null,
            "overflow_x": null,
            "overflow_y": null,
            "padding": null,
            "right": null,
            "top": null,
            "visibility": null,
            "width": null
          }
        },
        "ea1f57a9c7d948e8b669dd71bbf195e6": {
          "model_module": "@jupyter-widgets/base",
          "model_name": "LayoutModel",
          "model_module_version": "1.2.0",
          "state": {
            "_model_module": "@jupyter-widgets/base",
            "_model_module_version": "1.2.0",
            "_model_name": "LayoutModel",
            "_view_count": null,
            "_view_module": "@jupyter-widgets/base",
            "_view_module_version": "1.2.0",
            "_view_name": "LayoutView",
            "align_content": null,
            "align_items": null,
            "align_self": null,
            "border": null,
            "bottom": null,
            "display": null,
            "flex": null,
            "flex_flow": null,
            "grid_area": null,
            "grid_auto_columns": null,
            "grid_auto_flow": null,
            "grid_auto_rows": null,
            "grid_column": null,
            "grid_gap": null,
            "grid_row": null,
            "grid_template_areas": null,
            "grid_template_columns": null,
            "grid_template_rows": null,
            "height": null,
            "justify_content": null,
            "justify_items": null,
            "left": null,
            "margin": null,
            "max_height": null,
            "max_width": null,
            "min_height": null,
            "min_width": null,
            "object_fit": null,
            "object_position": null,
            "order": null,
            "overflow": null,
            "overflow_x": null,
            "overflow_y": null,
            "padding": null,
            "right": null,
            "top": null,
            "visibility": null,
            "width": null
          }
        },
        "6061719ef9a7434399a5a3f1fb6b1342": {
          "model_module": "@jupyter-widgets/controls",
          "model_name": "DescriptionStyleModel",
          "model_module_version": "1.5.0",
          "state": {
            "_model_module": "@jupyter-widgets/controls",
            "_model_module_version": "1.5.0",
            "_model_name": "DescriptionStyleModel",
            "_view_count": null,
            "_view_module": "@jupyter-widgets/base",
            "_view_module_version": "1.2.0",
            "_view_name": "StyleView",
            "description_width": ""
          }
        },
        "fdd52e9effed4a6d8b6e943ab77fc0b8": {
          "model_module": "@jupyter-widgets/base",
          "model_name": "LayoutModel",
          "model_module_version": "1.2.0",
          "state": {
            "_model_module": "@jupyter-widgets/base",
            "_model_module_version": "1.2.0",
            "_model_name": "LayoutModel",
            "_view_count": null,
            "_view_module": "@jupyter-widgets/base",
            "_view_module_version": "1.2.0",
            "_view_name": "LayoutView",
            "align_content": null,
            "align_items": null,
            "align_self": null,
            "border": null,
            "bottom": null,
            "display": null,
            "flex": null,
            "flex_flow": null,
            "grid_area": null,
            "grid_auto_columns": null,
            "grid_auto_flow": null,
            "grid_auto_rows": null,
            "grid_column": null,
            "grid_gap": null,
            "grid_row": null,
            "grid_template_areas": null,
            "grid_template_columns": null,
            "grid_template_rows": null,
            "height": null,
            "justify_content": null,
            "justify_items": null,
            "left": null,
            "margin": null,
            "max_height": null,
            "max_width": null,
            "min_height": null,
            "min_width": null,
            "object_fit": null,
            "object_position": null,
            "order": null,
            "overflow": null,
            "overflow_x": null,
            "overflow_y": null,
            "padding": null,
            "right": null,
            "top": null,
            "visibility": null,
            "width": null
          }
        },
        "77be8a96f37c4c2bb30e6fbb3fff7172": {
          "model_module": "@jupyter-widgets/controls",
          "model_name": "ProgressStyleModel",
          "model_module_version": "1.5.0",
          "state": {
            "_model_module": "@jupyter-widgets/controls",
            "_model_module_version": "1.5.0",
            "_model_name": "ProgressStyleModel",
            "_view_count": null,
            "_view_module": "@jupyter-widgets/base",
            "_view_module_version": "1.2.0",
            "_view_name": "StyleView",
            "bar_color": null,
            "description_width": ""
          }
        },
        "1bbea0b668b54988b152960a5feaaf05": {
          "model_module": "@jupyter-widgets/base",
          "model_name": "LayoutModel",
          "model_module_version": "1.2.0",
          "state": {
            "_model_module": "@jupyter-widgets/base",
            "_model_module_version": "1.2.0",
            "_model_name": "LayoutModel",
            "_view_count": null,
            "_view_module": "@jupyter-widgets/base",
            "_view_module_version": "1.2.0",
            "_view_name": "LayoutView",
            "align_content": null,
            "align_items": null,
            "align_self": null,
            "border": null,
            "bottom": null,
            "display": null,
            "flex": null,
            "flex_flow": null,
            "grid_area": null,
            "grid_auto_columns": null,
            "grid_auto_flow": null,
            "grid_auto_rows": null,
            "grid_column": null,
            "grid_gap": null,
            "grid_row": null,
            "grid_template_areas": null,
            "grid_template_columns": null,
            "grid_template_rows": null,
            "height": null,
            "justify_content": null,
            "justify_items": null,
            "left": null,
            "margin": null,
            "max_height": null,
            "max_width": null,
            "min_height": null,
            "min_width": null,
            "object_fit": null,
            "object_position": null,
            "order": null,
            "overflow": null,
            "overflow_x": null,
            "overflow_y": null,
            "padding": null,
            "right": null,
            "top": null,
            "visibility": null,
            "width": null
          }
        },
        "0d7afe9ad32d4a178be3d3005597f460": {
          "model_module": "@jupyter-widgets/controls",
          "model_name": "DescriptionStyleModel",
          "model_module_version": "1.5.0",
          "state": {
            "_model_module": "@jupyter-widgets/controls",
            "_model_module_version": "1.5.0",
            "_model_name": "DescriptionStyleModel",
            "_view_count": null,
            "_view_module": "@jupyter-widgets/base",
            "_view_module_version": "1.2.0",
            "_view_name": "StyleView",
            "description_width": ""
          }
        },
        "2bf8cae811974563827f21717004d0df": {
          "model_module": "@jupyter-widgets/controls",
          "model_name": "HBoxModel",
          "model_module_version": "1.5.0",
          "state": {
            "_dom_classes": [],
            "_model_module": "@jupyter-widgets/controls",
            "_model_module_version": "1.5.0",
            "_model_name": "HBoxModel",
            "_view_count": null,
            "_view_module": "@jupyter-widgets/controls",
            "_view_module_version": "1.5.0",
            "_view_name": "HBoxView",
            "box_style": "",
            "children": [
              "IPY_MODEL_20a95ebf82d14d8092fd93351253aa3a",
              "IPY_MODEL_9f6b81778bbf42f8a485f8f881515b3b",
              "IPY_MODEL_37d139229a4f4b0eb81308c78aebf5b6"
            ],
            "layout": "IPY_MODEL_90532276bc324f4dbd19d6e4044ad19c"
          }
        },
        "20a95ebf82d14d8092fd93351253aa3a": {
          "model_module": "@jupyter-widgets/controls",
          "model_name": "HTMLModel",
          "model_module_version": "1.5.0",
          "state": {
            "_dom_classes": [],
            "_model_module": "@jupyter-widgets/controls",
            "_model_module_version": "1.5.0",
            "_model_name": "HTMLModel",
            "_view_count": null,
            "_view_module": "@jupyter-widgets/controls",
            "_view_module_version": "1.5.0",
            "_view_name": "HTMLView",
            "description": "",
            "description_tooltip": null,
            "layout": "IPY_MODEL_272be464725e4c3faab6c5cd3c88d416",
            "placeholder": "​",
            "style": "IPY_MODEL_1294c550ad1e453ba739872bb7ae1b3f",
            "value": "Classifying test data: 100%"
          }
        },
        "9f6b81778bbf42f8a485f8f881515b3b": {
          "model_module": "@jupyter-widgets/controls",
          "model_name": "FloatProgressModel",
          "model_module_version": "1.5.0",
          "state": {
            "_dom_classes": [],
            "_model_module": "@jupyter-widgets/controls",
            "_model_module_version": "1.5.0",
            "_model_name": "FloatProgressModel",
            "_view_count": null,
            "_view_module": "@jupyter-widgets/controls",
            "_view_module_version": "1.5.0",
            "_view_name": "ProgressView",
            "bar_style": "success",
            "description": "",
            "description_tooltip": null,
            "layout": "IPY_MODEL_62b3a9bc384c4551b3767d3a7fbd39b6",
            "max": 2500,
            "min": 0,
            "orientation": "horizontal",
            "style": "IPY_MODEL_468b89890e01465eac33a2627b9daeee",
            "value": 2500
          }
        },
        "37d139229a4f4b0eb81308c78aebf5b6": {
          "model_module": "@jupyter-widgets/controls",
          "model_name": "HTMLModel",
          "model_module_version": "1.5.0",
          "state": {
            "_dom_classes": [],
            "_model_module": "@jupyter-widgets/controls",
            "_model_module_version": "1.5.0",
            "_model_name": "HTMLModel",
            "_view_count": null,
            "_view_module": "@jupyter-widgets/controls",
            "_view_module_version": "1.5.0",
            "_view_name": "HTMLView",
            "description": "",
            "description_tooltip": null,
            "layout": "IPY_MODEL_a4580270d39040a59ded771b8f47fe23",
            "placeholder": "​",
            "style": "IPY_MODEL_6e8978c53fe64975b43a581fe7bf8133",
            "value": " 2500/2500 [00:07&lt;00:00, 367.22it/s]"
          }
        },
        "90532276bc324f4dbd19d6e4044ad19c": {
          "model_module": "@jupyter-widgets/base",
          "model_name": "LayoutModel",
          "model_module_version": "1.2.0",
          "state": {
            "_model_module": "@jupyter-widgets/base",
            "_model_module_version": "1.2.0",
            "_model_name": "LayoutModel",
            "_view_count": null,
            "_view_module": "@jupyter-widgets/base",
            "_view_module_version": "1.2.0",
            "_view_name": "LayoutView",
            "align_content": null,
            "align_items": null,
            "align_self": null,
            "border": null,
            "bottom": null,
            "display": null,
            "flex": null,
            "flex_flow": null,
            "grid_area": null,
            "grid_auto_columns": null,
            "grid_auto_flow": null,
            "grid_auto_rows": null,
            "grid_column": null,
            "grid_gap": null,
            "grid_row": null,
            "grid_template_areas": null,
            "grid_template_columns": null,
            "grid_template_rows": null,
            "height": null,
            "justify_content": null,
            "justify_items": null,
            "left": null,
            "margin": null,
            "max_height": null,
            "max_width": null,
            "min_height": null,
            "min_width": null,
            "object_fit": null,
            "object_position": null,
            "order": null,
            "overflow": null,
            "overflow_x": null,
            "overflow_y": null,
            "padding": null,
            "right": null,
            "top": null,
            "visibility": null,
            "width": null
          }
        },
        "272be464725e4c3faab6c5cd3c88d416": {
          "model_module": "@jupyter-widgets/base",
          "model_name": "LayoutModel",
          "model_module_version": "1.2.0",
          "state": {
            "_model_module": "@jupyter-widgets/base",
            "_model_module_version": "1.2.0",
            "_model_name": "LayoutModel",
            "_view_count": null,
            "_view_module": "@jupyter-widgets/base",
            "_view_module_version": "1.2.0",
            "_view_name": "LayoutView",
            "align_content": null,
            "align_items": null,
            "align_self": null,
            "border": null,
            "bottom": null,
            "display": null,
            "flex": null,
            "flex_flow": null,
            "grid_area": null,
            "grid_auto_columns": null,
            "grid_auto_flow": null,
            "grid_auto_rows": null,
            "grid_column": null,
            "grid_gap": null,
            "grid_row": null,
            "grid_template_areas": null,
            "grid_template_columns": null,
            "grid_template_rows": null,
            "height": null,
            "justify_content": null,
            "justify_items": null,
            "left": null,
            "margin": null,
            "max_height": null,
            "max_width": null,
            "min_height": null,
            "min_width": null,
            "object_fit": null,
            "object_position": null,
            "order": null,
            "overflow": null,
            "overflow_x": null,
            "overflow_y": null,
            "padding": null,
            "right": null,
            "top": null,
            "visibility": null,
            "width": null
          }
        },
        "1294c550ad1e453ba739872bb7ae1b3f": {
          "model_module": "@jupyter-widgets/controls",
          "model_name": "DescriptionStyleModel",
          "model_module_version": "1.5.0",
          "state": {
            "_model_module": "@jupyter-widgets/controls",
            "_model_module_version": "1.5.0",
            "_model_name": "DescriptionStyleModel",
            "_view_count": null,
            "_view_module": "@jupyter-widgets/base",
            "_view_module_version": "1.2.0",
            "_view_name": "StyleView",
            "description_width": ""
          }
        },
        "62b3a9bc384c4551b3767d3a7fbd39b6": {
          "model_module": "@jupyter-widgets/base",
          "model_name": "LayoutModel",
          "model_module_version": "1.2.0",
          "state": {
            "_model_module": "@jupyter-widgets/base",
            "_model_module_version": "1.2.0",
            "_model_name": "LayoutModel",
            "_view_count": null,
            "_view_module": "@jupyter-widgets/base",
            "_view_module_version": "1.2.0",
            "_view_name": "LayoutView",
            "align_content": null,
            "align_items": null,
            "align_self": null,
            "border": null,
            "bottom": null,
            "display": null,
            "flex": null,
            "flex_flow": null,
            "grid_area": null,
            "grid_auto_columns": null,
            "grid_auto_flow": null,
            "grid_auto_rows": null,
            "grid_column": null,
            "grid_gap": null,
            "grid_row": null,
            "grid_template_areas": null,
            "grid_template_columns": null,
            "grid_template_rows": null,
            "height": null,
            "justify_content": null,
            "justify_items": null,
            "left": null,
            "margin": null,
            "max_height": null,
            "max_width": null,
            "min_height": null,
            "min_width": null,
            "object_fit": null,
            "object_position": null,
            "order": null,
            "overflow": null,
            "overflow_x": null,
            "overflow_y": null,
            "padding": null,
            "right": null,
            "top": null,
            "visibility": null,
            "width": null
          }
        },
        "468b89890e01465eac33a2627b9daeee": {
          "model_module": "@jupyter-widgets/controls",
          "model_name": "ProgressStyleModel",
          "model_module_version": "1.5.0",
          "state": {
            "_model_module": "@jupyter-widgets/controls",
            "_model_module_version": "1.5.0",
            "_model_name": "ProgressStyleModel",
            "_view_count": null,
            "_view_module": "@jupyter-widgets/base",
            "_view_module_version": "1.2.0",
            "_view_name": "StyleView",
            "bar_color": null,
            "description_width": ""
          }
        },
        "a4580270d39040a59ded771b8f47fe23": {
          "model_module": "@jupyter-widgets/base",
          "model_name": "LayoutModel",
          "model_module_version": "1.2.0",
          "state": {
            "_model_module": "@jupyter-widgets/base",
            "_model_module_version": "1.2.0",
            "_model_name": "LayoutModel",
            "_view_count": null,
            "_view_module": "@jupyter-widgets/base",
            "_view_module_version": "1.2.0",
            "_view_name": "LayoutView",
            "align_content": null,
            "align_items": null,
            "align_self": null,
            "border": null,
            "bottom": null,
            "display": null,
            "flex": null,
            "flex_flow": null,
            "grid_area": null,
            "grid_auto_columns": null,
            "grid_auto_flow": null,
            "grid_auto_rows": null,
            "grid_column": null,
            "grid_gap": null,
            "grid_row": null,
            "grid_template_areas": null,
            "grid_template_columns": null,
            "grid_template_rows": null,
            "height": null,
            "justify_content": null,
            "justify_items": null,
            "left": null,
            "margin": null,
            "max_height": null,
            "max_width": null,
            "min_height": null,
            "min_width": null,
            "object_fit": null,
            "object_position": null,
            "order": null,
            "overflow": null,
            "overflow_x": null,
            "overflow_y": null,
            "padding": null,
            "right": null,
            "top": null,
            "visibility": null,
            "width": null
          }
        },
        "6e8978c53fe64975b43a581fe7bf8133": {
          "model_module": "@jupyter-widgets/controls",
          "model_name": "DescriptionStyleModel",
          "model_module_version": "1.5.0",
          "state": {
            "_model_module": "@jupyter-widgets/controls",
            "_model_module_version": "1.5.0",
            "_model_name": "DescriptionStyleModel",
            "_view_count": null,
            "_view_module": "@jupyter-widgets/base",
            "_view_module_version": "1.2.0",
            "_view_name": "StyleView",
            "description_width": ""
          }
        },
        "6b916e227d4b4ccd8c22ee522ec8e2b6": {
          "model_module": "@jupyter-widgets/controls",
          "model_name": "HBoxModel",
          "model_module_version": "1.5.0",
          "state": {
            "_dom_classes": [],
            "_model_module": "@jupyter-widgets/controls",
            "_model_module_version": "1.5.0",
            "_model_name": "HBoxModel",
            "_view_count": null,
            "_view_module": "@jupyter-widgets/controls",
            "_view_module_version": "1.5.0",
            "_view_name": "HBoxView",
            "box_style": "",
            "children": [
              "IPY_MODEL_498ba727812d45638860fdf33b65f6be",
              "IPY_MODEL_2648040311b547bb9d821d001689c4be",
              "IPY_MODEL_d207ed98aed04f2cbf74df566a5dc98b"
            ],
            "layout": "IPY_MODEL_c7c105001ef5402bacbfd45579f37523"
          }
        },
        "498ba727812d45638860fdf33b65f6be": {
          "model_module": "@jupyter-widgets/controls",
          "model_name": "HTMLModel",
          "model_module_version": "1.5.0",
          "state": {
            "_dom_classes": [],
            "_model_module": "@jupyter-widgets/controls",
            "_model_module_version": "1.5.0",
            "_model_name": "HTMLModel",
            "_view_count": null,
            "_view_module": "@jupyter-widgets/controls",
            "_view_module_version": "1.5.0",
            "_view_name": "HTMLView",
            "description": "",
            "description_tooltip": null,
            "layout": "IPY_MODEL_c0e3a40b604942178d617c24d09fee87",
            "placeholder": "​",
            "style": "IPY_MODEL_d77235952fa34fab9823d9c046413f2b",
            "value": "Classifying test data: 100%"
          }
        },
        "2648040311b547bb9d821d001689c4be": {
          "model_module": "@jupyter-widgets/controls",
          "model_name": "FloatProgressModel",
          "model_module_version": "1.5.0",
          "state": {
            "_dom_classes": [],
            "_model_module": "@jupyter-widgets/controls",
            "_model_module_version": "1.5.0",
            "_model_name": "FloatProgressModel",
            "_view_count": null,
            "_view_module": "@jupyter-widgets/controls",
            "_view_module_version": "1.5.0",
            "_view_name": "ProgressView",
            "bar_style": "success",
            "description": "",
            "description_tooltip": null,
            "layout": "IPY_MODEL_098905571e464779af2c74529a07152c",
            "max": 2500,
            "min": 0,
            "orientation": "horizontal",
            "style": "IPY_MODEL_1b5dbe1574fe4f769d318ef8cd8968e4",
            "value": 2500
          }
        },
        "d207ed98aed04f2cbf74df566a5dc98b": {
          "model_module": "@jupyter-widgets/controls",
          "model_name": "HTMLModel",
          "model_module_version": "1.5.0",
          "state": {
            "_dom_classes": [],
            "_model_module": "@jupyter-widgets/controls",
            "_model_module_version": "1.5.0",
            "_model_name": "HTMLModel",
            "_view_count": null,
            "_view_module": "@jupyter-widgets/controls",
            "_view_module_version": "1.5.0",
            "_view_name": "HTMLView",
            "description": "",
            "description_tooltip": null,
            "layout": "IPY_MODEL_2f36adcc162746d0a353d37b5b52042b",
            "placeholder": "​",
            "style": "IPY_MODEL_cd5adc72c0204750b5d64fc1032a5557",
            "value": " 2500/2500 [00:07&lt;00:00, 137.66it/s]"
          }
        },
        "c7c105001ef5402bacbfd45579f37523": {
          "model_module": "@jupyter-widgets/base",
          "model_name": "LayoutModel",
          "model_module_version": "1.2.0",
          "state": {
            "_model_module": "@jupyter-widgets/base",
            "_model_module_version": "1.2.0",
            "_model_name": "LayoutModel",
            "_view_count": null,
            "_view_module": "@jupyter-widgets/base",
            "_view_module_version": "1.2.0",
            "_view_name": "LayoutView",
            "align_content": null,
            "align_items": null,
            "align_self": null,
            "border": null,
            "bottom": null,
            "display": null,
            "flex": null,
            "flex_flow": null,
            "grid_area": null,
            "grid_auto_columns": null,
            "grid_auto_flow": null,
            "grid_auto_rows": null,
            "grid_column": null,
            "grid_gap": null,
            "grid_row": null,
            "grid_template_areas": null,
            "grid_template_columns": null,
            "grid_template_rows": null,
            "height": null,
            "justify_content": null,
            "justify_items": null,
            "left": null,
            "margin": null,
            "max_height": null,
            "max_width": null,
            "min_height": null,
            "min_width": null,
            "object_fit": null,
            "object_position": null,
            "order": null,
            "overflow": null,
            "overflow_x": null,
            "overflow_y": null,
            "padding": null,
            "right": null,
            "top": null,
            "visibility": null,
            "width": null
          }
        },
        "c0e3a40b604942178d617c24d09fee87": {
          "model_module": "@jupyter-widgets/base",
          "model_name": "LayoutModel",
          "model_module_version": "1.2.0",
          "state": {
            "_model_module": "@jupyter-widgets/base",
            "_model_module_version": "1.2.0",
            "_model_name": "LayoutModel",
            "_view_count": null,
            "_view_module": "@jupyter-widgets/base",
            "_view_module_version": "1.2.0",
            "_view_name": "LayoutView",
            "align_content": null,
            "align_items": null,
            "align_self": null,
            "border": null,
            "bottom": null,
            "display": null,
            "flex": null,
            "flex_flow": null,
            "grid_area": null,
            "grid_auto_columns": null,
            "grid_auto_flow": null,
            "grid_auto_rows": null,
            "grid_column": null,
            "grid_gap": null,
            "grid_row": null,
            "grid_template_areas": null,
            "grid_template_columns": null,
            "grid_template_rows": null,
            "height": null,
            "justify_content": null,
            "justify_items": null,
            "left": null,
            "margin": null,
            "max_height": null,
            "max_width": null,
            "min_height": null,
            "min_width": null,
            "object_fit": null,
            "object_position": null,
            "order": null,
            "overflow": null,
            "overflow_x": null,
            "overflow_y": null,
            "padding": null,
            "right": null,
            "top": null,
            "visibility": null,
            "width": null
          }
        },
        "d77235952fa34fab9823d9c046413f2b": {
          "model_module": "@jupyter-widgets/controls",
          "model_name": "DescriptionStyleModel",
          "model_module_version": "1.5.0",
          "state": {
            "_model_module": "@jupyter-widgets/controls",
            "_model_module_version": "1.5.0",
            "_model_name": "DescriptionStyleModel",
            "_view_count": null,
            "_view_module": "@jupyter-widgets/base",
            "_view_module_version": "1.2.0",
            "_view_name": "StyleView",
            "description_width": ""
          }
        },
        "098905571e464779af2c74529a07152c": {
          "model_module": "@jupyter-widgets/base",
          "model_name": "LayoutModel",
          "model_module_version": "1.2.0",
          "state": {
            "_model_module": "@jupyter-widgets/base",
            "_model_module_version": "1.2.0",
            "_model_name": "LayoutModel",
            "_view_count": null,
            "_view_module": "@jupyter-widgets/base",
            "_view_module_version": "1.2.0",
            "_view_name": "LayoutView",
            "align_content": null,
            "align_items": null,
            "align_self": null,
            "border": null,
            "bottom": null,
            "display": null,
            "flex": null,
            "flex_flow": null,
            "grid_area": null,
            "grid_auto_columns": null,
            "grid_auto_flow": null,
            "grid_auto_rows": null,
            "grid_column": null,
            "grid_gap": null,
            "grid_row": null,
            "grid_template_areas": null,
            "grid_template_columns": null,
            "grid_template_rows": null,
            "height": null,
            "justify_content": null,
            "justify_items": null,
            "left": null,
            "margin": null,
            "max_height": null,
            "max_width": null,
            "min_height": null,
            "min_width": null,
            "object_fit": null,
            "object_position": null,
            "order": null,
            "overflow": null,
            "overflow_x": null,
            "overflow_y": null,
            "padding": null,
            "right": null,
            "top": null,
            "visibility": null,
            "width": null
          }
        },
        "1b5dbe1574fe4f769d318ef8cd8968e4": {
          "model_module": "@jupyter-widgets/controls",
          "model_name": "ProgressStyleModel",
          "model_module_version": "1.5.0",
          "state": {
            "_model_module": "@jupyter-widgets/controls",
            "_model_module_version": "1.5.0",
            "_model_name": "ProgressStyleModel",
            "_view_count": null,
            "_view_module": "@jupyter-widgets/base",
            "_view_module_version": "1.2.0",
            "_view_name": "StyleView",
            "bar_color": null,
            "description_width": ""
          }
        },
        "2f36adcc162746d0a353d37b5b52042b": {
          "model_module": "@jupyter-widgets/base",
          "model_name": "LayoutModel",
          "model_module_version": "1.2.0",
          "state": {
            "_model_module": "@jupyter-widgets/base",
            "_model_module_version": "1.2.0",
            "_model_name": "LayoutModel",
            "_view_count": null,
            "_view_module": "@jupyter-widgets/base",
            "_view_module_version": "1.2.0",
            "_view_name": "LayoutView",
            "align_content": null,
            "align_items": null,
            "align_self": null,
            "border": null,
            "bottom": null,
            "display": null,
            "flex": null,
            "flex_flow": null,
            "grid_area": null,
            "grid_auto_columns": null,
            "grid_auto_flow": null,
            "grid_auto_rows": null,
            "grid_column": null,
            "grid_gap": null,
            "grid_row": null,
            "grid_template_areas": null,
            "grid_template_columns": null,
            "grid_template_rows": null,
            "height": null,
            "justify_content": null,
            "justify_items": null,
            "left": null,
            "margin": null,
            "max_height": null,
            "max_width": null,
            "min_height": null,
            "min_width": null,
            "object_fit": null,
            "object_position": null,
            "order": null,
            "overflow": null,
            "overflow_x": null,
            "overflow_y": null,
            "padding": null,
            "right": null,
            "top": null,
            "visibility": null,
            "width": null
          }
        },
        "cd5adc72c0204750b5d64fc1032a5557": {
          "model_module": "@jupyter-widgets/controls",
          "model_name": "DescriptionStyleModel",
          "model_module_version": "1.5.0",
          "state": {
            "_model_module": "@jupyter-widgets/controls",
            "_model_module_version": "1.5.0",
            "_model_name": "DescriptionStyleModel",
            "_view_count": null,
            "_view_module": "@jupyter-widgets/base",
            "_view_module_version": "1.2.0",
            "_view_name": "StyleView",
            "description_width": ""
          }
        }
      }
    }
  },
  "cells": [
    {
      "cell_type": "code",
      "source": [
        "!pip install keras_preprocessing"
      ],
      "metadata": {
        "id": "W_Cvtxa-ArfU",
        "outputId": "7822ac53-bcc1-4f05-d421-0cf4653aa79c",
        "colab": {
          "base_uri": "https://localhost:8080/"
        }
      },
      "execution_count": null,
      "outputs": [
        {
          "output_type": "stream",
          "name": "stdout",
          "text": [
            "Collecting keras_preprocessing\n",
            "  Downloading Keras_Preprocessing-1.1.2-py2.py3-none-any.whl (42 kB)\n",
            "\u001b[?25l     \u001b[90m━━━━━━━━━━━━━━━━━━━━━━━━━━━━━━━━━━━━━━━━\u001b[0m \u001b[32m0.0/42.6 kB\u001b[0m \u001b[31m?\u001b[0m eta \u001b[36m-:--:--\u001b[0m\r\u001b[2K     \u001b[91m━━━━━━━━━━━━━━━━━━━━━━━━━━━━\u001b[0m\u001b[91m╸\u001b[0m\u001b[90m━━━━━━━━━━━\u001b[0m \u001b[32m30.7/42.6 kB\u001b[0m \u001b[31m867.6 kB/s\u001b[0m eta \u001b[36m0:00:01\u001b[0m\r\u001b[2K     \u001b[90m━━━━━━━━━━━━━━━━━━━━━━━━━━━━━━━━━━━━━━━━\u001b[0m \u001b[32m42.6/42.6 kB\u001b[0m \u001b[31m767.3 kB/s\u001b[0m eta \u001b[36m0:00:00\u001b[0m\n",
            "\u001b[?25hRequirement already satisfied: numpy>=1.9.1 in /usr/local/lib/python3.10/dist-packages (from keras_preprocessing) (1.23.5)\n",
            "Requirement already satisfied: six>=1.9.0 in /usr/local/lib/python3.10/dist-packages (from keras_preprocessing) (1.16.0)\n",
            "Installing collected packages: keras_preprocessing\n",
            "Successfully installed keras_preprocessing-1.1.2\n"
          ]
        }
      ]
    },
    {
      "cell_type": "code",
      "source": [
        "!pip install keras.utils.np_utils"
      ],
      "metadata": {
        "id": "MW90VdkpA1XR",
        "outputId": "8197e00b-e2e0-4f5b-c0f0-b727f7076b3a",
        "colab": {
          "base_uri": "https://localhost:8080/"
        }
      },
      "execution_count": null,
      "outputs": [
        {
          "output_type": "stream",
          "name": "stdout",
          "text": [
            "\u001b[31mERROR: Could not find a version that satisfies the requirement keras.utils.np_utils (from versions: none)\u001b[0m\u001b[31m\n",
            "\u001b[0m\u001b[31mERROR: No matching distribution found for keras.utils.np_utils\u001b[0m\u001b[31m\n",
            "\u001b[0m"
          ]
        }
      ]
    },
    {
      "cell_type": "code",
      "source": [
        "from sklearn.feature_extraction.text import CountVectorizer\n",
        "from keras.preprocessing.text import Tokenizer\n",
        "from keras_preprocessing.sequence import pad_sequences\n",
        "from keras.models import Sequential\n",
        "from keras.layers import Dense, Embedding, LSTM, SpatialDropout1D\n",
        "from sklearn.model_selection import train_test_split\n",
        "import pandas as pd\n",
        "import numpy as np\n",
        "import matplotlib.pyplot as plt"
      ],
      "metadata": {
        "id": "gntR_V1MbxIu"
      },
      "execution_count": null,
      "outputs": []
    },
    {
      "cell_type": "code",
      "source": [
        "from google.colab import files\n",
        "uploaded = files.upload()"
      ],
      "metadata": {
        "id": "tiC5HREnBFMU",
        "outputId": "91aeb8dc-b8e8-47c4-8a86-2c188ecb262e",
        "colab": {
          "base_uri": "https://localhost:8080/",
          "height": 71
        }
      },
      "execution_count": null,
      "outputs": [
        {
          "output_type": "display_data",
          "data": {
            "text/plain": [
              "<IPython.core.display.HTML object>"
            ],
            "text/html": [
              "\n",
              "     <input type=\"file\" id=\"files-6266322a-c43a-4327-8297-9c6de4c350be\" name=\"files[]\" multiple disabled\n",
              "        style=\"border:none\" />\n",
              "     <output id=\"result-6266322a-c43a-4327-8297-9c6de4c350be\">\n",
              "      Upload widget is only available when the cell has been executed in the\n",
              "      current browser session. Please rerun this cell to enable.\n",
              "      </output>\n",
              "      <script>// Copyright 2017 Google LLC\n",
              "//\n",
              "// Licensed under the Apache License, Version 2.0 (the \"License\");\n",
              "// you may not use this file except in compliance with the License.\n",
              "// You may obtain a copy of the License at\n",
              "//\n",
              "//      http://www.apache.org/licenses/LICENSE-2.0\n",
              "//\n",
              "// Unless required by applicable law or agreed to in writing, software\n",
              "// distributed under the License is distributed on an \"AS IS\" BASIS,\n",
              "// WITHOUT WARRANTIES OR CONDITIONS OF ANY KIND, either express or implied.\n",
              "// See the License for the specific language governing permissions and\n",
              "// limitations under the License.\n",
              "\n",
              "/**\n",
              " * @fileoverview Helpers for google.colab Python module.\n",
              " */\n",
              "(function(scope) {\n",
              "function span(text, styleAttributes = {}) {\n",
              "  const element = document.createElement('span');\n",
              "  element.textContent = text;\n",
              "  for (const key of Object.keys(styleAttributes)) {\n",
              "    element.style[key] = styleAttributes[key];\n",
              "  }\n",
              "  return element;\n",
              "}\n",
              "\n",
              "// Max number of bytes which will be uploaded at a time.\n",
              "const MAX_PAYLOAD_SIZE = 100 * 1024;\n",
              "\n",
              "function _uploadFiles(inputId, outputId) {\n",
              "  const steps = uploadFilesStep(inputId, outputId);\n",
              "  const outputElement = document.getElementById(outputId);\n",
              "  // Cache steps on the outputElement to make it available for the next call\n",
              "  // to uploadFilesContinue from Python.\n",
              "  outputElement.steps = steps;\n",
              "\n",
              "  return _uploadFilesContinue(outputId);\n",
              "}\n",
              "\n",
              "// This is roughly an async generator (not supported in the browser yet),\n",
              "// where there are multiple asynchronous steps and the Python side is going\n",
              "// to poll for completion of each step.\n",
              "// This uses a Promise to block the python side on completion of each step,\n",
              "// then passes the result of the previous step as the input to the next step.\n",
              "function _uploadFilesContinue(outputId) {\n",
              "  const outputElement = document.getElementById(outputId);\n",
              "  const steps = outputElement.steps;\n",
              "\n",
              "  const next = steps.next(outputElement.lastPromiseValue);\n",
              "  return Promise.resolve(next.value.promise).then((value) => {\n",
              "    // Cache the last promise value to make it available to the next\n",
              "    // step of the generator.\n",
              "    outputElement.lastPromiseValue = value;\n",
              "    return next.value.response;\n",
              "  });\n",
              "}\n",
              "\n",
              "/**\n",
              " * Generator function which is called between each async step of the upload\n",
              " * process.\n",
              " * @param {string} inputId Element ID of the input file picker element.\n",
              " * @param {string} outputId Element ID of the output display.\n",
              " * @return {!Iterable<!Object>} Iterable of next steps.\n",
              " */\n",
              "function* uploadFilesStep(inputId, outputId) {\n",
              "  const inputElement = document.getElementById(inputId);\n",
              "  inputElement.disabled = false;\n",
              "\n",
              "  const outputElement = document.getElementById(outputId);\n",
              "  outputElement.innerHTML = '';\n",
              "\n",
              "  const pickedPromise = new Promise((resolve) => {\n",
              "    inputElement.addEventListener('change', (e) => {\n",
              "      resolve(e.target.files);\n",
              "    });\n",
              "  });\n",
              "\n",
              "  const cancel = document.createElement('button');\n",
              "  inputElement.parentElement.appendChild(cancel);\n",
              "  cancel.textContent = 'Cancel upload';\n",
              "  const cancelPromise = new Promise((resolve) => {\n",
              "    cancel.onclick = () => {\n",
              "      resolve(null);\n",
              "    };\n",
              "  });\n",
              "\n",
              "  // Wait for the user to pick the files.\n",
              "  const files = yield {\n",
              "    promise: Promise.race([pickedPromise, cancelPromise]),\n",
              "    response: {\n",
              "      action: 'starting',\n",
              "    }\n",
              "  };\n",
              "\n",
              "  cancel.remove();\n",
              "\n",
              "  // Disable the input element since further picks are not allowed.\n",
              "  inputElement.disabled = true;\n",
              "\n",
              "  if (!files) {\n",
              "    return {\n",
              "      response: {\n",
              "        action: 'complete',\n",
              "      }\n",
              "    };\n",
              "  }\n",
              "\n",
              "  for (const file of files) {\n",
              "    const li = document.createElement('li');\n",
              "    li.append(span(file.name, {fontWeight: 'bold'}));\n",
              "    li.append(span(\n",
              "        `(${file.type || 'n/a'}) - ${file.size} bytes, ` +\n",
              "        `last modified: ${\n",
              "            file.lastModifiedDate ? file.lastModifiedDate.toLocaleDateString() :\n",
              "                                    'n/a'} - `));\n",
              "    const percent = span('0% done');\n",
              "    li.appendChild(percent);\n",
              "\n",
              "    outputElement.appendChild(li);\n",
              "\n",
              "    const fileDataPromise = new Promise((resolve) => {\n",
              "      const reader = new FileReader();\n",
              "      reader.onload = (e) => {\n",
              "        resolve(e.target.result);\n",
              "      };\n",
              "      reader.readAsArrayBuffer(file);\n",
              "    });\n",
              "    // Wait for the data to be ready.\n",
              "    let fileData = yield {\n",
              "      promise: fileDataPromise,\n",
              "      response: {\n",
              "        action: 'continue',\n",
              "      }\n",
              "    };\n",
              "\n",
              "    // Use a chunked sending to avoid message size limits. See b/62115660.\n",
              "    let position = 0;\n",
              "    do {\n",
              "      const length = Math.min(fileData.byteLength - position, MAX_PAYLOAD_SIZE);\n",
              "      const chunk = new Uint8Array(fileData, position, length);\n",
              "      position += length;\n",
              "\n",
              "      const base64 = btoa(String.fromCharCode.apply(null, chunk));\n",
              "      yield {\n",
              "        response: {\n",
              "          action: 'append',\n",
              "          file: file.name,\n",
              "          data: base64,\n",
              "        },\n",
              "      };\n",
              "\n",
              "      let percentDone = fileData.byteLength === 0 ?\n",
              "          100 :\n",
              "          Math.round((position / fileData.byteLength) * 100);\n",
              "      percent.textContent = `${percentDone}% done`;\n",
              "\n",
              "    } while (position < fileData.byteLength);\n",
              "  }\n",
              "\n",
              "  // All done.\n",
              "  yield {\n",
              "    response: {\n",
              "      action: 'complete',\n",
              "    }\n",
              "  };\n",
              "}\n",
              "\n",
              "scope.google = scope.google || {};\n",
              "scope.google.colab = scope.google.colab || {};\n",
              "scope.google.colab._files = {\n",
              "  _uploadFiles,\n",
              "  _uploadFilesContinue,\n",
              "};\n",
              "})(self);\n",
              "</script> "
            ]
          },
          "metadata": {}
        },
        {
          "output_type": "stream",
          "name": "stdout",
          "text": [
            "Saving fb_sentiment (2).csv to fb_sentiment (2) (1).csv\n"
          ]
        }
      ]
    },
    {
      "cell_type": "markdown",
      "source": [
        "**Facebook comments Sentiment analysis**"
      ],
      "metadata": {
        "id": "8I66DiI1eWpp"
      }
    },
    {
      "cell_type": "markdown",
      "source": [
        "The aim of this notebook is to train and test a Neural Network to detect, if a Facebook comment is either positive or negative in nature, based on a sample of Facebook comments with attatched sentiment ratings."
      ],
      "metadata": {
        "id": "wTU6oTMUeeNH"
      }
    },
    {
      "cell_type": "code",
      "source": [
        "import io\n",
        "fb = pd.read_csv(io.BytesIO(uploaded['fb_sentiment (2) (1).csv']))\n",
        "print(fb)"
      ],
      "metadata": {
        "id": "-Y0C4J8Lb3xY",
        "outputId": "55229f57-ec92-4fc5-cb58-6d3c090af6e8",
        "colab": {
          "base_uri": "https://localhost:8080/"
        }
      },
      "execution_count": null,
      "outputs": [
        {
          "output_type": "stream",
          "name": "stdout",
          "text": [
            "     Unnamed: 0                                             FBPost Label\n",
            "0             0  Drug Runners and  a U.S. Senator have somethin...     O\n",
            "1             1  Heres a single, to add, to Kindle. Just read t...     O\n",
            "2             2  If you tire of Non-Fiction.. Check out http://...     O\n",
            "3             3    Ghost of Round Island is supposedly nonfiction.     O\n",
            "4             4  Why is Barnes and Nobles version of the Kindle...     N\n",
            "..          ...                                                ...   ...\n",
            "995         995  I liked it.  Its youth oriented and I think th...     P\n",
            "996         996  I think the point of the commercial is that, e...     P\n",
            "997         997  Kindle 3 is such a great product. I could not ...     P\n",
            "998         998  develop a way to share books!  that is a big d...     N\n",
            "999         999                               I love my kindle! =)     P\n",
            "\n",
            "[1000 rows x 3 columns]\n"
          ]
        }
      ]
    },
    {
      "cell_type": "markdown",
      "source": [
        "**Exploring Data**"
      ],
      "metadata": {
        "id": "SeBYYSarekyn"
      }
    },
    {
      "cell_type": "markdown",
      "source": [
        "The data that we have chosen are Facebook-comments (FBPost) , with sentiments (Label) rated positive, negative or other. There are rows in the dataset, with an uneven distribution of sentiments.\n",
        "\n",
        "In this section, some minor cleaning will take place."
      ],
      "metadata": {
        "id": "vrPYGLV0eoYD"
      }
    },
    {
      "cell_type": "code",
      "source": [
        "fb.head()"
      ],
      "metadata": {
        "colab": {
          "base_uri": "https://localhost:8080/",
          "height": 206
        },
        "id": "_K9cyjCeb_Qg",
        "outputId": "2aec6a23-8233-4d94-9225-233c5b3c8fc9"
      },
      "execution_count": null,
      "outputs": [
        {
          "output_type": "execute_result",
          "data": {
            "text/plain": [
              "   Unnamed: 0                                             FBPost Label\n",
              "0           0  Drug Runners and  a U.S. Senator have somethin...     O\n",
              "1           1  Heres a single, to add, to Kindle. Just read t...     O\n",
              "2           2  If you tire of Non-Fiction.. Check out http://...     O\n",
              "3           3    Ghost of Round Island is supposedly nonfiction.     O\n",
              "4           4  Why is Barnes and Nobles version of the Kindle...     N"
            ],
            "text/html": [
              "\n",
              "  <div id=\"df-f10c937d-2085-4d62-a955-f85837dea828\" class=\"colab-df-container\">\n",
              "    <div>\n",
              "<style scoped>\n",
              "    .dataframe tbody tr th:only-of-type {\n",
              "        vertical-align: middle;\n",
              "    }\n",
              "\n",
              "    .dataframe tbody tr th {\n",
              "        vertical-align: top;\n",
              "    }\n",
              "\n",
              "    .dataframe thead th {\n",
              "        text-align: right;\n",
              "    }\n",
              "</style>\n",
              "<table border=\"1\" class=\"dataframe\">\n",
              "  <thead>\n",
              "    <tr style=\"text-align: right;\">\n",
              "      <th></th>\n",
              "      <th>Unnamed: 0</th>\n",
              "      <th>FBPost</th>\n",
              "      <th>Label</th>\n",
              "    </tr>\n",
              "  </thead>\n",
              "  <tbody>\n",
              "    <tr>\n",
              "      <th>0</th>\n",
              "      <td>0</td>\n",
              "      <td>Drug Runners and  a U.S. Senator have somethin...</td>\n",
              "      <td>O</td>\n",
              "    </tr>\n",
              "    <tr>\n",
              "      <th>1</th>\n",
              "      <td>1</td>\n",
              "      <td>Heres a single, to add, to Kindle. Just read t...</td>\n",
              "      <td>O</td>\n",
              "    </tr>\n",
              "    <tr>\n",
              "      <th>2</th>\n",
              "      <td>2</td>\n",
              "      <td>If you tire of Non-Fiction.. Check out http://...</td>\n",
              "      <td>O</td>\n",
              "    </tr>\n",
              "    <tr>\n",
              "      <th>3</th>\n",
              "      <td>3</td>\n",
              "      <td>Ghost of Round Island is supposedly nonfiction.</td>\n",
              "      <td>O</td>\n",
              "    </tr>\n",
              "    <tr>\n",
              "      <th>4</th>\n",
              "      <td>4</td>\n",
              "      <td>Why is Barnes and Nobles version of the Kindle...</td>\n",
              "      <td>N</td>\n",
              "    </tr>\n",
              "  </tbody>\n",
              "</table>\n",
              "</div>\n",
              "    <div class=\"colab-df-buttons\">\n",
              "\n",
              "  <div class=\"colab-df-container\">\n",
              "    <button class=\"colab-df-convert\" onclick=\"convertToInteractive('df-f10c937d-2085-4d62-a955-f85837dea828')\"\n",
              "            title=\"Convert this dataframe to an interactive table.\"\n",
              "            style=\"display:none;\">\n",
              "\n",
              "  <svg xmlns=\"http://www.w3.org/2000/svg\" height=\"24px\" viewBox=\"0 -960 960 960\">\n",
              "    <path d=\"M120-120v-720h720v720H120Zm60-500h600v-160H180v160Zm220 220h160v-160H400v160Zm0 220h160v-160H400v160ZM180-400h160v-160H180v160Zm440 0h160v-160H620v160ZM180-180h160v-160H180v160Zm440 0h160v-160H620v160Z\"/>\n",
              "  </svg>\n",
              "    </button>\n",
              "\n",
              "  <style>\n",
              "    .colab-df-container {\n",
              "      display:flex;\n",
              "      gap: 12px;\n",
              "    }\n",
              "\n",
              "    .colab-df-convert {\n",
              "      background-color: #E8F0FE;\n",
              "      border: none;\n",
              "      border-radius: 50%;\n",
              "      cursor: pointer;\n",
              "      display: none;\n",
              "      fill: #1967D2;\n",
              "      height: 32px;\n",
              "      padding: 0 0 0 0;\n",
              "      width: 32px;\n",
              "    }\n",
              "\n",
              "    .colab-df-convert:hover {\n",
              "      background-color: #E2EBFA;\n",
              "      box-shadow: 0px 1px 2px rgba(60, 64, 67, 0.3), 0px 1px 3px 1px rgba(60, 64, 67, 0.15);\n",
              "      fill: #174EA6;\n",
              "    }\n",
              "\n",
              "    .colab-df-buttons div {\n",
              "      margin-bottom: 4px;\n",
              "    }\n",
              "\n",
              "    [theme=dark] .colab-df-convert {\n",
              "      background-color: #3B4455;\n",
              "      fill: #D2E3FC;\n",
              "    }\n",
              "\n",
              "    [theme=dark] .colab-df-convert:hover {\n",
              "      background-color: #434B5C;\n",
              "      box-shadow: 0px 1px 3px 1px rgba(0, 0, 0, 0.15);\n",
              "      filter: drop-shadow(0px 1px 2px rgba(0, 0, 0, 0.3));\n",
              "      fill: #FFFFFF;\n",
              "    }\n",
              "  </style>\n",
              "\n",
              "    <script>\n",
              "      const buttonEl =\n",
              "        document.querySelector('#df-f10c937d-2085-4d62-a955-f85837dea828 button.colab-df-convert');\n",
              "      buttonEl.style.display =\n",
              "        google.colab.kernel.accessAllowed ? 'block' : 'none';\n",
              "\n",
              "      async function convertToInteractive(key) {\n",
              "        const element = document.querySelector('#df-f10c937d-2085-4d62-a955-f85837dea828');\n",
              "        const dataTable =\n",
              "          await google.colab.kernel.invokeFunction('convertToInteractive',\n",
              "                                                    [key], {});\n",
              "        if (!dataTable) return;\n",
              "\n",
              "        const docLinkHtml = 'Like what you see? Visit the ' +\n",
              "          '<a target=\"_blank\" href=https://colab.research.google.com/notebooks/data_table.ipynb>data table notebook</a>'\n",
              "          + ' to learn more about interactive tables.';\n",
              "        element.innerHTML = '';\n",
              "        dataTable['output_type'] = 'display_data';\n",
              "        await google.colab.output.renderOutput(dataTable, element);\n",
              "        const docLink = document.createElement('div');\n",
              "        docLink.innerHTML = docLinkHtml;\n",
              "        element.appendChild(docLink);\n",
              "      }\n",
              "    </script>\n",
              "  </div>\n",
              "\n",
              "\n",
              "<div id=\"df-9f109e31-e9d6-4f4e-b6fb-d70e0e93123e\">\n",
              "  <button class=\"colab-df-quickchart\" onclick=\"quickchart('df-9f109e31-e9d6-4f4e-b6fb-d70e0e93123e')\"\n",
              "            title=\"Suggest charts\"\n",
              "            style=\"display:none;\">\n",
              "\n",
              "<svg xmlns=\"http://www.w3.org/2000/svg\" height=\"24px\"viewBox=\"0 0 24 24\"\n",
              "     width=\"24px\">\n",
              "    <g>\n",
              "        <path d=\"M19 3H5c-1.1 0-2 .9-2 2v14c0 1.1.9 2 2 2h14c1.1 0 2-.9 2-2V5c0-1.1-.9-2-2-2zM9 17H7v-7h2v7zm4 0h-2V7h2v10zm4 0h-2v-4h2v4z\"/>\n",
              "    </g>\n",
              "</svg>\n",
              "  </button>\n",
              "\n",
              "<style>\n",
              "  .colab-df-quickchart {\n",
              "      --bg-color: #E8F0FE;\n",
              "      --fill-color: #1967D2;\n",
              "      --hover-bg-color: #E2EBFA;\n",
              "      --hover-fill-color: #174EA6;\n",
              "      --disabled-fill-color: #AAA;\n",
              "      --disabled-bg-color: #DDD;\n",
              "  }\n",
              "\n",
              "  [theme=dark] .colab-df-quickchart {\n",
              "      --bg-color: #3B4455;\n",
              "      --fill-color: #D2E3FC;\n",
              "      --hover-bg-color: #434B5C;\n",
              "      --hover-fill-color: #FFFFFF;\n",
              "      --disabled-bg-color: #3B4455;\n",
              "      --disabled-fill-color: #666;\n",
              "  }\n",
              "\n",
              "  .colab-df-quickchart {\n",
              "    background-color: var(--bg-color);\n",
              "    border: none;\n",
              "    border-radius: 50%;\n",
              "    cursor: pointer;\n",
              "    display: none;\n",
              "    fill: var(--fill-color);\n",
              "    height: 32px;\n",
              "    padding: 0;\n",
              "    width: 32px;\n",
              "  }\n",
              "\n",
              "  .colab-df-quickchart:hover {\n",
              "    background-color: var(--hover-bg-color);\n",
              "    box-shadow: 0 1px 2px rgba(60, 64, 67, 0.3), 0 1px 3px 1px rgba(60, 64, 67, 0.15);\n",
              "    fill: var(--button-hover-fill-color);\n",
              "  }\n",
              "\n",
              "  .colab-df-quickchart-complete:disabled,\n",
              "  .colab-df-quickchart-complete:disabled:hover {\n",
              "    background-color: var(--disabled-bg-color);\n",
              "    fill: var(--disabled-fill-color);\n",
              "    box-shadow: none;\n",
              "  }\n",
              "\n",
              "  .colab-df-spinner {\n",
              "    border: 2px solid var(--fill-color);\n",
              "    border-color: transparent;\n",
              "    border-bottom-color: var(--fill-color);\n",
              "    animation:\n",
              "      spin 1s steps(1) infinite;\n",
              "  }\n",
              "\n",
              "  @keyframes spin {\n",
              "    0% {\n",
              "      border-color: transparent;\n",
              "      border-bottom-color: var(--fill-color);\n",
              "      border-left-color: var(--fill-color);\n",
              "    }\n",
              "    20% {\n",
              "      border-color: transparent;\n",
              "      border-left-color: var(--fill-color);\n",
              "      border-top-color: var(--fill-color);\n",
              "    }\n",
              "    30% {\n",
              "      border-color: transparent;\n",
              "      border-left-color: var(--fill-color);\n",
              "      border-top-color: var(--fill-color);\n",
              "      border-right-color: var(--fill-color);\n",
              "    }\n",
              "    40% {\n",
              "      border-color: transparent;\n",
              "      border-right-color: var(--fill-color);\n",
              "      border-top-color: var(--fill-color);\n",
              "    }\n",
              "    60% {\n",
              "      border-color: transparent;\n",
              "      border-right-color: var(--fill-color);\n",
              "    }\n",
              "    80% {\n",
              "      border-color: transparent;\n",
              "      border-right-color: var(--fill-color);\n",
              "      border-bottom-color: var(--fill-color);\n",
              "    }\n",
              "    90% {\n",
              "      border-color: transparent;\n",
              "      border-bottom-color: var(--fill-color);\n",
              "    }\n",
              "  }\n",
              "</style>\n",
              "\n",
              "  <script>\n",
              "    async function quickchart(key) {\n",
              "      const quickchartButtonEl =\n",
              "        document.querySelector('#' + key + ' button');\n",
              "      quickchartButtonEl.disabled = true;  // To prevent multiple clicks.\n",
              "      quickchartButtonEl.classList.add('colab-df-spinner');\n",
              "      try {\n",
              "        const charts = await google.colab.kernel.invokeFunction(\n",
              "            'suggestCharts', [key], {});\n",
              "      } catch (error) {\n",
              "        console.error('Error during call to suggestCharts:', error);\n",
              "      }\n",
              "      quickchartButtonEl.classList.remove('colab-df-spinner');\n",
              "      quickchartButtonEl.classList.add('colab-df-quickchart-complete');\n",
              "    }\n",
              "    (() => {\n",
              "      let quickchartButtonEl =\n",
              "        document.querySelector('#df-9f109e31-e9d6-4f4e-b6fb-d70e0e93123e button');\n",
              "      quickchartButtonEl.style.display =\n",
              "        google.colab.kernel.accessAllowed ? 'block' : 'none';\n",
              "    })();\n",
              "  </script>\n",
              "</div>\n",
              "\n",
              "    </div>\n",
              "  </div>\n"
            ]
          },
          "metadata": {},
          "execution_count": 55
        }
      ]
    },
    {
      "cell_type": "code",
      "source": [
        "# lower-casing the coloumn names\n",
        "fb.columns = map(str.lower, fb.columns)"
      ],
      "metadata": {
        "id": "CLcAvaugcEDJ"
      },
      "execution_count": null,
      "outputs": []
    },
    {
      "cell_type": "code",
      "source": [
        "# checkin the shape of the DF\n",
        "fb.shape"
      ],
      "metadata": {
        "colab": {
          "base_uri": "https://localhost:8080/"
        },
        "id": "jxureIF_cFs8",
        "outputId": "337181a6-8d73-4354-db81-c627d68e0a4e"
      },
      "execution_count": null,
      "outputs": [
        {
          "output_type": "execute_result",
          "data": {
            "text/plain": [
              "(1000, 3)"
            ]
          },
          "metadata": {},
          "execution_count": 57
        }
      ]
    },
    {
      "cell_type": "markdown",
      "source": [
        "**Data Preparation**"
      ],
      "metadata": {
        "id": "sYNievLSetCr"
      }
    },
    {
      "cell_type": "markdown",
      "source": [
        "Preparing the Facebook comments"
      ],
      "metadata": {
        "id": "39ocaCAHewxK"
      }
    },
    {
      "cell_type": "code",
      "source": [
        "#lowercasing the text and removing symbols though RegEx\n",
        "import re\n",
        "fb['fbpost'] = fb['fbpost'].apply(lambda x: x.lower())\n",
        "fb['fbpost'] = fb['fbpost'].apply((lambda x: re.sub('[^a-zA-z0-9\\s]','',x)))"
      ],
      "metadata": {
        "id": "BrMmGYvCcISs"
      },
      "execution_count": null,
      "outputs": []
    },
    {
      "cell_type": "markdown",
      "source": [
        "With this Neural network, we want to predict, wether a comment is Positive (P) or Negative (N), so the comments with the sentiment labeled Other (O) is of no use to us, so it's removed from the dataset."
      ],
      "metadata": {
        "id": "6IklP6_-e2YB"
      }
    },
    {
      "cell_type": "code",
      "source": [
        "fb = fb[fb.label != \"O\"]"
      ],
      "metadata": {
        "id": "M1ARLv01cLUa"
      },
      "execution_count": null,
      "outputs": []
    },
    {
      "cell_type": "markdown",
      "source": [
        "Now to tokenize the actual Facebook comments:"
      ],
      "metadata": {
        "id": "8asSZPy_e5Da"
      }
    },
    {
      "cell_type": "code",
      "source": [
        "max_fatures = 2000\n",
        "tokenizer = Tokenizer(num_words=max_fatures, split=' ')\n",
        "tokenizer.fit_on_texts(fb['fbpost'].values)\n",
        "X = tokenizer.texts_to_sequences(fb['fbpost'].values)\n",
        "X = pad_sequences(X)"
      ],
      "metadata": {
        "id": "RydbvvlkcOD6"
      },
      "execution_count": null,
      "outputs": []
    },
    {
      "cell_type": "markdown",
      "source": [
        "**Preparing the labels**"
      ],
      "metadata": {
        "id": "8fTMCTXVe9IN"
      }
    },
    {
      "cell_type": "markdown",
      "source": [
        "Here the lables are checked after the removel of the \"other\" sentimented comments. Also some preperation to the algorithm, as preparing the test-, and training sets are done."
      ],
      "metadata": {
        "id": "4zJUJGk7fBkQ"
      }
    },
    {
      "cell_type": "code",
      "source": [
        "fb.label.value_counts()"
      ],
      "metadata": {
        "colab": {
          "base_uri": "https://localhost:8080/"
        },
        "id": "iuBbolt5cQ34",
        "outputId": "c76f65af-8583-499c-e214-89f43ef4d2bf"
      },
      "execution_count": null,
      "outputs": [
        {
          "output_type": "execute_result",
          "data": {
            "text/plain": [
              "P    641\n",
              "N     79\n",
              "Name: label, dtype: int64"
            ]
          },
          "metadata": {},
          "execution_count": 61
        }
      ]
    },
    {
      "cell_type": "code",
      "source": [
        "Y = pd.get_dummies(fb['label']).values\n",
        "X_train, X_test, Y_train, Y_test = train_test_split(X,Y, test_size = 0.33, random_state = 42)\n",
        "print(X_train.shape,Y_train.shape)\n",
        "print(X_test.shape,Y_test.shape)"
      ],
      "metadata": {
        "colab": {
          "base_uri": "https://localhost:8080/"
        },
        "id": "j3ulDqqCcUBw",
        "outputId": "68da2e61-8356-4f39-bd72-ed842fb240de"
      },
      "execution_count": null,
      "outputs": [
        {
          "output_type": "stream",
          "name": "stdout",
          "text": [
            "(482, 203) (482, 2)\n",
            "(238, 203) (238, 2)\n"
          ]
        }
      ]
    },
    {
      "cell_type": "markdown",
      "source": [
        "**The Neural Network**"
      ],
      "metadata": {
        "id": "zWpnq8rHfHM5"
      }
    },
    {
      "cell_type": "markdown",
      "source": [
        "In this section, the algorithm is prepared with following features:\n",
        "\n",
        "1. The model is Sequential\n",
        "2. The model type is an LSTM model"
      ],
      "metadata": {
        "id": "tTc-7fO7fItx"
      }
    },
    {
      "cell_type": "code",
      "source": [
        "embed_dim = 200\n",
        "lstm_out = 200\n",
        "\n",
        "model = Sequential()\n",
        "model.add(Embedding(max_fatures, embed_dim,input_length = X.shape[1]))\n",
        "model.add(SpatialDropout1D(0.4))\n",
        "model.add(LSTM(lstm_out, dropout=0.2, recurrent_dropout=0.2))\n",
        "model.add(Dense(2,activation='softmax'))\n",
        "model.compile(loss = 'categorical_crossentropy', optimizer='adam',metrics = ['accuracy'])\n",
        "print(model.summary())"
      ],
      "metadata": {
        "colab": {
          "base_uri": "https://localhost:8080/"
        },
        "id": "XJlF985TcXDi",
        "outputId": "35f38e94-b4d2-4ee3-e68e-2474199050ea"
      },
      "execution_count": null,
      "outputs": [
        {
          "output_type": "stream",
          "name": "stdout",
          "text": [
            "Model: \"sequential\"\n",
            "_________________________________________________________________\n",
            " Layer (type)                Output Shape              Param #   \n",
            "=================================================================\n",
            " embedding (Embedding)       (None, 203, 200)          400000    \n",
            "                                                                 \n",
            " spatial_dropout1d (Spatial  (None, 203, 200)          0         \n",
            " Dropout1D)                                                      \n",
            "                                                                 \n",
            " lstm (LSTM)                 (None, 200)               320800    \n",
            "                                                                 \n",
            " dense (Dense)               (None, 2)                 402       \n",
            "                                                                 \n",
            "=================================================================\n",
            "Total params: 721202 (2.75 MB)\n",
            "Trainable params: 721202 (2.75 MB)\n",
            "Non-trainable params: 0 (0.00 Byte)\n",
            "_________________________________________________________________\n",
            "None\n"
          ]
        }
      ]
    },
    {
      "cell_type": "code",
      "source": [
        "# Here we train the model\n",
        "batch_size = 32\n",
        "hist = model.fit(X_train, Y_train, epochs = 7, batch_size=batch_size, verbose = 2)"
      ],
      "metadata": {
        "colab": {
          "base_uri": "https://localhost:8080/"
        },
        "id": "nhC6oP9Ucbh4",
        "outputId": "ad9800a4-bd5d-4f1a-e971-1449f1cdd995"
      },
      "execution_count": null,
      "outputs": [
        {
          "output_type": "stream",
          "name": "stdout",
          "text": [
            "Epoch 1/7\n",
            "16/16 - 26s - loss: 0.4394 - accuracy: 0.8672 - 26s/epoch - 2s/step\n",
            "Epoch 2/7\n",
            "16/16 - 19s - loss: 0.3289 - accuracy: 0.8963 - 19s/epoch - 1s/step\n",
            "Epoch 3/7\n",
            "16/16 - 20s - loss: 0.2869 - accuracy: 0.8963 - 20s/epoch - 1s/step\n",
            "Epoch 4/7\n",
            "16/16 - 21s - loss: 0.2296 - accuracy: 0.8983 - 21s/epoch - 1s/step\n",
            "Epoch 5/7\n",
            "16/16 - 19s - loss: 0.1626 - accuracy: 0.9398 - 19s/epoch - 1s/step\n",
            "Epoch 6/7\n",
            "16/16 - 21s - loss: 0.1002 - accuracy: 0.9627 - 21s/epoch - 1s/step\n",
            "Epoch 7/7\n",
            "16/16 - 20s - loss: 0.0621 - accuracy: 0.9710 - 20s/epoch - 1s/step\n"
          ]
        }
      ]
    },
    {
      "cell_type": "code",
      "source": [
        "#Plotting a histogram over the 7 epocs and plotting the accuracy and loss\n",
        "history = pd.DataFrame(hist.history)\n",
        "plt.figure(figsize=(7,7));\n",
        "plt.plot(history[\"loss\"]);\n",
        "plt.plot(history[\"accuracy\"]);\n",
        "plt.title(\"Loss and accuracy of model\");\n",
        "plt.show();\n"
      ],
      "metadata": {
        "colab": {
          "base_uri": "https://localhost:8080/",
          "height": 622
        },
        "id": "4KevhDHHc_PH",
        "outputId": "65090462-d9a5-4a5c-fb67-41071023bc44"
      },
      "execution_count": null,
      "outputs": [
        {
          "output_type": "display_data",
          "data": {
            "text/plain": [
              "<Figure size 700x700 with 1 Axes>"
            ],
            "image/png": "[encoded data removed]"
          },
          "metadata": {}
        }
      ]
    },
    {
      "cell_type": "code",
      "source": [
        "#Testing the model, and retrieveing score and accuracy:\n",
        "score,acc = model.evaluate(X_test,Y_test)\n",
        "print(\"score: %.2f\" % (score))\n",
        "print(\"accuracy: %.2f\" % (acc))"
      ],
      "metadata": {
        "colab": {
          "base_uri": "https://localhost:8080/"
        },
        "id": "s7RShbTOduGZ",
        "outputId": "86b16385-8b63-4b28-d20b-4e4bb14aed1e"
      },
      "execution_count": null,
      "outputs": [
        {
          "output_type": "stream",
          "name": "stdout",
          "text": [
            "8/8 [==============================] - 3s 293ms/step - loss: 0.4491 - accuracy: 0.8319\n",
            "score: 0.45\n",
            "accuracy: 0.83\n"
          ]
        }
      ]
    },
    {
      "cell_type": "code",
      "source": [
        "#now we validate for the models accuracy in predicting either a positive, or a negative score:\n",
        "validation_size = 1500\n",
        "\n",
        "X_validate = X_test[-validation_size:]\n",
        "Y_validate = Y_test[-validation_size:]\n",
        "x_test = X_test[:-validation_size]\n",
        "y_test = Y_test[:-validation_size]"
      ],
      "metadata": {
        "id": "k9KpfUH0duOb"
      },
      "execution_count": null,
      "outputs": []
    },
    {
      "cell_type": "code",
      "source": [
        "pos_cnt, neg_cnt, pos_correct, neg_correct = 0, 0, 0, 0\n",
        "for x in range(len(X_validate)):\n",
        "    result = model.predict(X_validate[x].reshape(1,x_test.shape[1]),verbose = 2)[0]\n",
        "    if np.argmax(result) == np.argmax(Y_validate[x]):\n",
        "        if np.argmax(Y_validate[x]) == 0:\n",
        "            neg_correct += 1\n",
        "        else:\n",
        "            pos_correct += 1\n",
        "    if np.argmax(Y_validate[x]) == 0:\n",
        "        neg_cnt += 1\n",
        "    else:\n",
        "        pos_cnt += 1\n",
        "print(\"positive_acc\", pos_correct/pos_cnt*100, \"%\")\n",
        "print(\"negative_acc\", neg_correct/neg_cnt*100, \"%\")"
      ],
      "metadata": {
        "colab": {
          "base_uri": "https://localhost:8080/"
        },
        "id": "W9e_Uigfd1my",
        "outputId": "e1c10023-8447-49f8-dd7b-ad59b256a6ae"
      },
      "execution_count": null,
      "outputs": [
        {
          "output_type": "stream",
          "name": "stdout",
          "text": [
            "1/1 - 1s - 1s/epoch - 1s/step\n",
            "1/1 - 0s - 299ms/epoch - 299ms/step\n",
            "1/1 - 0s - 215ms/epoch - 215ms/step\n",
            "1/1 - 0s - 225ms/epoch - 225ms/step\n",
            "1/1 - 0s - 171ms/epoch - 171ms/step\n",
            "1/1 - 0s - 263ms/epoch - 263ms/step\n",
            "1/1 - 0s - 411ms/epoch - 411ms/step\n",
            "1/1 - 0s - 431ms/epoch - 431ms/step\n",
            "1/1 - 0s - 226ms/epoch - 226ms/step\n",
            "1/1 - 0s - 126ms/epoch - 126ms/step\n",
            "1/1 - 0s - 143ms/epoch - 143ms/step\n",
            "1/1 - 0s - 135ms/epoch - 135ms/step\n",
            "1/1 - 0s - 132ms/epoch - 132ms/step\n",
            "1/1 - 0s - 139ms/epoch - 139ms/step\n",
            "1/1 - 0s - 129ms/epoch - 129ms/step\n",
            "1/1 - 0s - 123ms/epoch - 123ms/step\n",
            "1/1 - 0s - 137ms/epoch - 137ms/step\n",
            "1/1 - 0s - 138ms/epoch - 138ms/step\n",
            "1/1 - 0s - 142ms/epoch - 142ms/step\n",
            "1/1 - 0s - 138ms/epoch - 138ms/step\n",
            "1/1 - 0s - 150ms/epoch - 150ms/step\n",
            "1/1 - 0s - 132ms/epoch - 132ms/step\n",
            "1/1 - 0s - 142ms/epoch - 142ms/step\n",
            "1/1 - 0s - 130ms/epoch - 130ms/step\n",
            "1/1 - 0s - 139ms/epoch - 139ms/step\n",
            "1/1 - 0s - 144ms/epoch - 144ms/step\n",
            "1/1 - 0s - 142ms/epoch - 142ms/step\n",
            "1/1 - 0s - 138ms/epoch - 138ms/step\n",
            "1/1 - 0s - 141ms/epoch - 141ms/step\n",
            "1/1 - 0s - 141ms/epoch - 141ms/step\n",
            "1/1 - 0s - 193ms/epoch - 193ms/step\n",
            "1/1 - 0s - 207ms/epoch - 207ms/step\n",
            "1/1 - 0s - 250ms/epoch - 250ms/step\n",
            "1/1 - 0s - 248ms/epoch - 248ms/step\n",
            "1/1 - 0s - 241ms/epoch - 241ms/step\n",
            "1/1 - 0s - 234ms/epoch - 234ms/step\n",
            "1/1 - 0s - 252ms/epoch - 252ms/step\n",
            "1/1 - 0s - 239ms/epoch - 239ms/step\n",
            "1/1 - 0s - 224ms/epoch - 224ms/step\n",
            "1/1 - 0s - 232ms/epoch - 232ms/step\n",
            "1/1 - 0s - 231ms/epoch - 231ms/step\n",
            "1/1 - 0s - 230ms/epoch - 230ms/step\n",
            "1/1 - 0s - 135ms/epoch - 135ms/step\n",
            "1/1 - 0s - 160ms/epoch - 160ms/step\n",
            "1/1 - 0s - 140ms/epoch - 140ms/step\n",
            "1/1 - 0s - 144ms/epoch - 144ms/step\n",
            "1/1 - 0s - 144ms/epoch - 144ms/step\n",
            "1/1 - 0s - 138ms/epoch - 138ms/step\n",
            "1/1 - 0s - 150ms/epoch - 150ms/step\n",
            "1/1 - 0s - 142ms/epoch - 142ms/step\n",
            "1/1 - 0s - 136ms/epoch - 136ms/step\n",
            "1/1 - 0s - 144ms/epoch - 144ms/step\n",
            "1/1 - 0s - 139ms/epoch - 139ms/step\n",
            "1/1 - 0s - 133ms/epoch - 133ms/step\n",
            "1/1 - 0s - 132ms/epoch - 132ms/step\n",
            "1/1 - 0s - 140ms/epoch - 140ms/step\n",
            "1/1 - 0s - 139ms/epoch - 139ms/step\n",
            "1/1 - 0s - 135ms/epoch - 135ms/step\n",
            "1/1 - 0s - 138ms/epoch - 138ms/step\n",
            "1/1 - 0s - 153ms/epoch - 153ms/step\n",
            "1/1 - 0s - 141ms/epoch - 141ms/step\n",
            "1/1 - 0s - 132ms/epoch - 132ms/step\n",
            "1/1 - 0s - 133ms/epoch - 133ms/step\n",
            "1/1 - 0s - 142ms/epoch - 142ms/step\n",
            "1/1 - 0s - 156ms/epoch - 156ms/step\n",
            "1/1 - 0s - 146ms/epoch - 146ms/step\n",
            "1/1 - 0s - 118ms/epoch - 118ms/step\n",
            "1/1 - 0s - 138ms/epoch - 138ms/step\n",
            "1/1 - 0s - 133ms/epoch - 133ms/step\n",
            "1/1 - 0s - 149ms/epoch - 149ms/step\n",
            "1/1 - 0s - 149ms/epoch - 149ms/step\n",
            "1/1 - 0s - 143ms/epoch - 143ms/step\n",
            "1/1 - 0s - 136ms/epoch - 136ms/step\n",
            "1/1 - 0s - 141ms/epoch - 141ms/step\n",
            "1/1 - 0s - 150ms/epoch - 150ms/step\n",
            "1/1 - 0s - 148ms/epoch - 148ms/step\n",
            "1/1 - 0s - 131ms/epoch - 131ms/step\n",
            "1/1 - 0s - 140ms/epoch - 140ms/step\n",
            "1/1 - 0s - 137ms/epoch - 137ms/step\n",
            "1/1 - 0s - 144ms/epoch - 144ms/step\n",
            "1/1 - 0s - 152ms/epoch - 152ms/step\n",
            "1/1 - 0s - 135ms/epoch - 135ms/step\n",
            "1/1 - 0s - 134ms/epoch - 134ms/step\n",
            "1/1 - 0s - 139ms/epoch - 139ms/step\n",
            "1/1 - 0s - 140ms/epoch - 140ms/step\n",
            "1/1 - 0s - 145ms/epoch - 145ms/step\n",
            "1/1 - 0s - 133ms/epoch - 133ms/step\n",
            "1/1 - 0s - 140ms/epoch - 140ms/step\n",
            "1/1 - 0s - 280ms/epoch - 280ms/step\n",
            "1/1 - 0s - 373ms/epoch - 373ms/step\n",
            "1/1 - 0s - 448ms/epoch - 448ms/step\n",
            "1/1 - 0s - 426ms/epoch - 426ms/step\n",
            "1/1 - 0s - 409ms/epoch - 409ms/step\n",
            "1/1 - 0s - 462ms/epoch - 462ms/step\n",
            "1/1 - 0s - 476ms/epoch - 476ms/step\n",
            "1/1 - 0s - 236ms/epoch - 236ms/step\n",
            "1/1 - 0s - 181ms/epoch - 181ms/step\n",
            "1/1 - 0s - 144ms/epoch - 144ms/step\n",
            "1/1 - 0s - 143ms/epoch - 143ms/step\n",
            "1/1 - 0s - 134ms/epoch - 134ms/step\n",
            "1/1 - 0s - 129ms/epoch - 129ms/step\n",
            "1/1 - 0s - 135ms/epoch - 135ms/step\n",
            "1/1 - 0s - 147ms/epoch - 147ms/step\n",
            "1/1 - 0s - 141ms/epoch - 141ms/step\n",
            "1/1 - 0s - 138ms/epoch - 138ms/step\n",
            "1/1 - 0s - 134ms/epoch - 134ms/step\n",
            "1/1 - 0s - 139ms/epoch - 139ms/step\n",
            "1/1 - 0s - 149ms/epoch - 149ms/step\n",
            "1/1 - 0s - 145ms/epoch - 145ms/step\n",
            "1/1 - 0s - 146ms/epoch - 146ms/step\n",
            "1/1 - 0s - 140ms/epoch - 140ms/step\n",
            "1/1 - 0s - 144ms/epoch - 144ms/step\n",
            "1/1 - 0s - 142ms/epoch - 142ms/step\n",
            "1/1 - 0s - 137ms/epoch - 137ms/step\n",
            "1/1 - 0s - 138ms/epoch - 138ms/step\n",
            "1/1 - 0s - 143ms/epoch - 143ms/step\n",
            "1/1 - 0s - 142ms/epoch - 142ms/step\n",
            "1/1 - 0s - 143ms/epoch - 143ms/step\n",
            "1/1 - 0s - 138ms/epoch - 138ms/step\n",
            "1/1 - 0s - 140ms/epoch - 140ms/step\n",
            "1/1 - 0s - 136ms/epoch - 136ms/step\n",
            "1/1 - 0s - 134ms/epoch - 134ms/step\n",
            "1/1 - 0s - 148ms/epoch - 148ms/step\n",
            "1/1 - 0s - 137ms/epoch - 137ms/step\n",
            "1/1 - 0s - 151ms/epoch - 151ms/step\n",
            "1/1 - 0s - 144ms/epoch - 144ms/step\n",
            "1/1 - 0s - 126ms/epoch - 126ms/step\n",
            "1/1 - 0s - 150ms/epoch - 150ms/step\n",
            "1/1 - 0s - 139ms/epoch - 139ms/step\n",
            "1/1 - 0s - 149ms/epoch - 149ms/step\n",
            "1/1 - 0s - 136ms/epoch - 136ms/step\n",
            "1/1 - 0s - 155ms/epoch - 155ms/step\n",
            "1/1 - 0s - 148ms/epoch - 148ms/step\n",
            "1/1 - 0s - 140ms/epoch - 140ms/step\n",
            "1/1 - 0s - 146ms/epoch - 146ms/step\n",
            "1/1 - 0s - 142ms/epoch - 142ms/step\n",
            "1/1 - 0s - 134ms/epoch - 134ms/step\n",
            "1/1 - 0s - 139ms/epoch - 139ms/step\n",
            "1/1 - 0s - 141ms/epoch - 141ms/step\n",
            "1/1 - 0s - 144ms/epoch - 144ms/step\n",
            "1/1 - 0s - 138ms/epoch - 138ms/step\n",
            "1/1 - 0s - 130ms/epoch - 130ms/step\n",
            "1/1 - 0s - 145ms/epoch - 145ms/step\n",
            "1/1 - 0s - 136ms/epoch - 136ms/step\n",
            "1/1 - 0s - 139ms/epoch - 139ms/step\n",
            "1/1 - 0s - 142ms/epoch - 142ms/step\n",
            "1/1 - 0s - 210ms/epoch - 210ms/step\n",
            "1/1 - 0s - 249ms/epoch - 249ms/step\n",
            "1/1 - 0s - 256ms/epoch - 256ms/step\n",
            "1/1 - 0s - 252ms/epoch - 252ms/step\n",
            "1/1 - 0s - 232ms/epoch - 232ms/step\n",
            "1/1 - 0s - 256ms/epoch - 256ms/step\n",
            "1/1 - 0s - 258ms/epoch - 258ms/step\n",
            "1/1 - 0s - 238ms/epoch - 238ms/step\n",
            "1/1 - 0s - 249ms/epoch - 249ms/step\n",
            "1/1 - 0s - 234ms/epoch - 234ms/step\n",
            "1/1 - 0s - 255ms/epoch - 255ms/step\n",
            "1/1 - 0s - 207ms/epoch - 207ms/step\n",
            "1/1 - 0s - 138ms/epoch - 138ms/step\n",
            "1/1 - 0s - 142ms/epoch - 142ms/step\n",
            "1/1 - 0s - 140ms/epoch - 140ms/step\n",
            "1/1 - 0s - 134ms/epoch - 134ms/step\n",
            "1/1 - 0s - 142ms/epoch - 142ms/step\n",
            "1/1 - 0s - 145ms/epoch - 145ms/step\n",
            "1/1 - 0s - 127ms/epoch - 127ms/step\n",
            "1/1 - 0s - 126ms/epoch - 126ms/step\n",
            "1/1 - 0s - 139ms/epoch - 139ms/step\n",
            "1/1 - 0s - 142ms/epoch - 142ms/step\n",
            "1/1 - 0s - 160ms/epoch - 160ms/step\n",
            "1/1 - 0s - 152ms/epoch - 152ms/step\n",
            "1/1 - 0s - 133ms/epoch - 133ms/step\n",
            "1/1 - 0s - 135ms/epoch - 135ms/step\n",
            "1/1 - 0s - 131ms/epoch - 131ms/step\n",
            "1/1 - 0s - 148ms/epoch - 148ms/step\n",
            "1/1 - 0s - 123ms/epoch - 123ms/step\n",
            "1/1 - 0s - 132ms/epoch - 132ms/step\n",
            "1/1 - 0s - 133ms/epoch - 133ms/step\n",
            "1/1 - 0s - 148ms/epoch - 148ms/step\n",
            "1/1 - 0s - 151ms/epoch - 151ms/step\n",
            "1/1 - 0s - 132ms/epoch - 132ms/step\n",
            "1/1 - 0s - 144ms/epoch - 144ms/step\n",
            "1/1 - 0s - 137ms/epoch - 137ms/step\n",
            "1/1 - 0s - 141ms/epoch - 141ms/step\n",
            "1/1 - 0s - 155ms/epoch - 155ms/step\n",
            "1/1 - 0s - 128ms/epoch - 128ms/step\n",
            "1/1 - 0s - 132ms/epoch - 132ms/step\n",
            "1/1 - 0s - 141ms/epoch - 141ms/step\n",
            "1/1 - 0s - 141ms/epoch - 141ms/step\n",
            "1/1 - 0s - 131ms/epoch - 131ms/step\n",
            "1/1 - 0s - 124ms/epoch - 124ms/step\n",
            "1/1 - 0s - 141ms/epoch - 141ms/step\n",
            "1/1 - 0s - 124ms/epoch - 124ms/step\n",
            "1/1 - 0s - 132ms/epoch - 132ms/step\n",
            "1/1 - 0s - 140ms/epoch - 140ms/step\n",
            "1/1 - 0s - 160ms/epoch - 160ms/step\n",
            "1/1 - 0s - 137ms/epoch - 137ms/step\n",
            "1/1 - 0s - 133ms/epoch - 133ms/step\n",
            "1/1 - 0s - 125ms/epoch - 125ms/step\n",
            "1/1 - 0s - 138ms/epoch - 138ms/step\n",
            "1/1 - 0s - 149ms/epoch - 149ms/step\n",
            "1/1 - 0s - 143ms/epoch - 143ms/step\n",
            "1/1 - 0s - 137ms/epoch - 137ms/step\n",
            "1/1 - 0s - 140ms/epoch - 140ms/step\n",
            "1/1 - 0s - 143ms/epoch - 143ms/step\n",
            "1/1 - 0s - 145ms/epoch - 145ms/step\n",
            "1/1 - 0s - 139ms/epoch - 139ms/step\n",
            "1/1 - 0s - 133ms/epoch - 133ms/step\n",
            "1/1 - 0s - 136ms/epoch - 136ms/step\n",
            "1/1 - 0s - 197ms/epoch - 197ms/step\n",
            "1/1 - 0s - 266ms/epoch - 266ms/step\n",
            "1/1 - 0s - 234ms/epoch - 234ms/step\n",
            "1/1 - 0s - 245ms/epoch - 245ms/step\n",
            "1/1 - 0s - 272ms/epoch - 272ms/step\n",
            "1/1 - 0s - 217ms/epoch - 217ms/step\n",
            "1/1 - 0s - 236ms/epoch - 236ms/step\n",
            "1/1 - 0s - 247ms/epoch - 247ms/step\n",
            "1/1 - 0s - 255ms/epoch - 255ms/step\n",
            "1/1 - 0s - 235ms/epoch - 235ms/step\n",
            "1/1 - 0s - 211ms/epoch - 211ms/step\n",
            "1/1 - 0s - 246ms/epoch - 246ms/step\n",
            "1/1 - 0s - 152ms/epoch - 152ms/step\n",
            "1/1 - 0s - 122ms/epoch - 122ms/step\n",
            "1/1 - 0s - 136ms/epoch - 136ms/step\n",
            "1/1 - 0s - 155ms/epoch - 155ms/step\n",
            "1/1 - 0s - 129ms/epoch - 129ms/step\n",
            "1/1 - 0s - 130ms/epoch - 130ms/step\n",
            "1/1 - 0s - 140ms/epoch - 140ms/step\n",
            "1/1 - 0s - 141ms/epoch - 141ms/step\n",
            "1/1 - 0s - 154ms/epoch - 154ms/step\n",
            "1/1 - 0s - 134ms/epoch - 134ms/step\n",
            "1/1 - 0s - 141ms/epoch - 141ms/step\n",
            "1/1 - 0s - 129ms/epoch - 129ms/step\n",
            "1/1 - 0s - 131ms/epoch - 131ms/step\n",
            "1/1 - 0s - 142ms/epoch - 142ms/step\n",
            "1/1 - 0s - 133ms/epoch - 133ms/step\n",
            "1/1 - 0s - 131ms/epoch - 131ms/step\n",
            "1/1 - 0s - 144ms/epoch - 144ms/step\n",
            "1/1 - 0s - 133ms/epoch - 133ms/step\n",
            "positive_acc 90.9090909090909 %\n",
            "negative_acc 27.586206896551722 %\n"
          ]
        }
      ]
    },
    {
      "cell_type": "code",
      "source": [
        "#now testing  on a random sample from the Facebook comments on Kindle's page:\n",
        "cmnt = ['your customer service is the absolute worst i now have a mess of books on my kindle']\n",
        "#vectorizing the comment\n",
        "cmnt = tokenizer.texts_to_sequences(cmnt)\n",
        "cmnt = pad_sequences(cmnt, maxlen=203, dtype='int32', value=0)\n",
        "print(cmnt)\n",
        "sentiment = model.predict(cmnt,batch_size=2,verbose = 2)[0]\n",
        "if(np.argmax(sentiment) == 0):\n",
        "    print(\"negative\")\n",
        "elif (np.argmax(sentiment) == 1):\n",
        "    print(\"positive\")"
      ],
      "metadata": {
        "colab": {
          "base_uri": "https://localhost:8080/"
        },
        "id": "vihg5-oNeD5X",
        "outputId": "80a51ac9-1131-4c5e-92d5-cb5c7b3a34e5"
      },
      "execution_count": null,
      "outputs": [
        {
          "output_type": "stream",
          "name": "stdout",
          "text": [
            "[[  0   0   0   0   0   0   0   0   0   0   0   0   0   0   0   0   0   0\n",
            "    0   0   0   0   0   0   0   0   0   0   0   0   0   0   0   0   0   0\n",
            "    0   0   0   0   0   0   0   0   0   0   0   0   0   0   0   0   0   0\n",
            "    0   0   0   0   0   0   0   0   0   0   0   0   0   0   0   0   0   0\n",
            "    0   0   0   0   0   0   0   0   0   0   0   0   0   0   0   0   0   0\n",
            "    0   0   0   0   0   0   0   0   0   0   0   0   0   0   0   0   0   0\n",
            "    0   0   0   0   0   0   0   0   0   0   0   0   0   0   0   0   0   0\n",
            "    0   0   0   0   0   0   0   0   0   0   0   0   0   0   0   0   0   0\n",
            "    0   0   0   0   0   0   0   0   0   0   0   0   0   0   0   0   0   0\n",
            "    0   0   0   0   0   0   0   0   0   0   0   0   0   0   0   0   0   0\n",
            "    0   0   0   0   0   0   0   0  51 510 674  12   2 895   1  69  11   6\n",
            "   13  16  20   3   4]]\n",
            "1/1 - 0s - 142ms/epoch - 142ms/step\n",
            "positive\n"
          ]
        }
      ]
    },
    {
      "cell_type": "markdown",
      "source": [
        "What went wrong?\n",
        "\n",
        "Our sample size for the training-, and test set was in fact quite small (under 1000 comments), and the proportion of negative to positive comments was skewed about 1 to 9. So the algorithm was not really optimized on the basis of our data. This is the reason for the algorithm choosing the wrong sentiment in the sample-test above"
      ],
      "metadata": {
        "id": "baFKXdREeO3K"
      }
    },
    {
      "cell_type": "markdown",
      "source": [
        "NAIVE BAYES"
      ],
      "metadata": {
        "id": "v5nbR9-49mKz"
      }
    },
    {
      "cell_type": "code",
      "source": [
        "!wget https://ai.stanford.edu/~amaas/data/sentiment/aclImdb_v1.tar.gz -P data/"
      ],
      "metadata": {
        "id": "5H-Nvw5a-l93",
        "outputId": "a3302848-92be-4daf-8a3d-83fa85692999",
        "colab": {
          "base_uri": "https://localhost:8080/"
        }
      },
      "execution_count": null,
      "outputs": [
        {
          "output_type": "stream",
          "name": "stdout",
          "text": [
            "--2024-01-03 20:46:29--  https://ai.stanford.edu/~amaas/data/sentiment/aclImdb_v1.tar.gz\n",
            "Resolving ai.stanford.edu (ai.stanford.edu)... 171.64.68.10\n",
            "Connecting to ai.stanford.edu (ai.stanford.edu)|171.64.68.10|:443... connected.\n",
            "HTTP request sent, awaiting response... 200 OK\n",
            "Length: 84125825 (80M) [application/x-gzip]\n",
            "Saving to: ‘data/aclImdb_v1.tar.gz.1’\n",
            "\n",
            "aclImdb_v1.tar.gz.1 100%[===================>]  80.23M  19.8MB/s    in 5.6s    \n",
            "\n",
            "2024-01-03 20:46:35 (14.2 MB/s) - ‘data/aclImdb_v1.tar.gz.1’ saved [84125825/84125825]\n",
            "\n"
          ]
        }
      ]
    },
    {
      "cell_type": "code",
      "source": [
        "import os\n",
        "import numpy as np\n",
        "import re\n",
        "import nltk\n",
        "from collections import Counter, defaultdict\n",
        "from tqdm import tqdm_notebook"
      ],
      "metadata": {
        "id": "jM2UHg6L9lVE"
      },
      "execution_count": null,
      "outputs": []
    },
    {
      "cell_type": "code",
      "source": [
        "nltk.download('punkt')"
      ],
      "metadata": {
        "id": "TxO7w_3N-F4T",
        "outputId": "8f2ed9ae-57a8-4c9d-c5b2-82ed9f47100c",
        "colab": {
          "base_uri": "https://localhost:8080/"
        }
      },
      "execution_count": null,
      "outputs": [
        {
          "output_type": "stream",
          "name": "stderr",
          "text": [
            "[nltk_data] Downloading package punkt to /root/nltk_data...\n",
            "[nltk_data]   Package punkt is already up-to-date!\n"
          ]
        },
        {
          "output_type": "execute_result",
          "data": {
            "text/plain": [
              "True"
            ]
          },
          "metadata": {},
          "execution_count": 72
        }
      ]
    },
    {
      "cell_type": "markdown",
      "source": [
        "EXTRACT DATA"
      ],
      "metadata": {
        "id": "oNdI54H--J-g"
      }
    },
    {
      "cell_type": "code",
      "source": [
        "%%time\n",
        "!tar -xzf data/aclImdb_v1.tar.gz -C data/"
      ],
      "metadata": {
        "id": "eZ-qHyoQ-H4a",
        "outputId": "b66f3dc8-3b99-4341-cd63-984c2da8b43a",
        "colab": {
          "base_uri": "https://localhost:8080/"
        }
      },
      "execution_count": null,
      "outputs": [
        {
          "output_type": "stream",
          "name": "stdout",
          "text": [
            "CPU times: user 130 ms, sys: 12.4 ms, total: 142 ms\n",
            "Wall time: 14.4 s\n"
          ]
        }
      ]
    },
    {
      "cell_type": "code",
      "source": [
        "data_folder = 'data/aclImdb/'"
      ],
      "metadata": {
        "id": "WmtmAWgJ-S3-"
      },
      "execution_count": null,
      "outputs": []
    },
    {
      "cell_type": "code",
      "source": [
        "rp = os.path.join(data_folder, 'train/pos')\n",
        "train_positive = [os.path.join(rp, f) for f in os.listdir(rp)]\n",
        "rp = os.path.join(data_folder, 'train/neg')\n",
        "train_negative = [os.path.join(rp, f) for f in os.listdir(rp)]\n",
        "\n",
        "rp = os.path.join(data_folder, 'test/pos')\n",
        "test_positive = [os.path.join(rp, f) for f in os.listdir(rp)]\n",
        "rp = os.path.join(data_folder, 'test/neg')\n",
        "test_negative = [os.path.join(rp, f) for f in os.listdir(rp)]"
      ],
      "metadata": {
        "id": "9C2nLVK7-YB8"
      },
      "execution_count": null,
      "outputs": []
    },
    {
      "cell_type": "markdown",
      "source": [
        "REGEX FOR CLEANING HTML TAGS"
      ],
      "metadata": {
        "id": "3x9zf3y3-xax"
      }
    },
    {
      "cell_type": "code",
      "source": [
        "re_html_cleaner = re.compile(r\"<.*?>\")"
      ],
      "metadata": {
        "id": "MB7NgS0E-u4I"
      },
      "execution_count": null,
      "outputs": []
    },
    {
      "cell_type": "code",
      "source": [
        "n_train = 2500\n",
        "n_test = 2500"
      ],
      "metadata": {
        "id": "Sp1oUagU-74B"
      },
      "execution_count": null,
      "outputs": []
    },
    {
      "cell_type": "markdown",
      "source": [
        "UNIGRAM COUNTER - Calculates distribution , empirically from training data"
      ],
      "metadata": {
        "id": "UJOBAwv5-_X-"
      }
    },
    {
      "cell_type": "code",
      "source": [
        "# Distribution of word tokens in positive samples\n",
        "positive_word_counts = Counter()\n",
        "\n",
        "for _fname in tqdm_notebook(train_positive[:n_train], desc=\"Crunching +ve samples: \"):\n",
        "    with open(_fname) as f:\n",
        "        text = f.read().strip()\n",
        "        text = re_html_cleaner.sub(\" \", text)\n",
        "        positive_word_counts += Counter(nltk.word_tokenize(text))\n",
        "\n",
        "# Distribution of word tokens in negative samples\n",
        "negative_word_counts = Counter()\n",
        "\n",
        "for _fname in tqdm_notebook(train_negative[:n_train], desc=\"Crunching -ve samples: \"):\n",
        "    with open(_fname) as f:\n",
        "        text = f.read().strip()\n",
        "        text = re_html_cleaner.sub(\" \", text)\n",
        "        negative_word_counts += Counter(nltk.word_tokenize(text))"
      ],
      "metadata": {
        "id": "SnvbeqiC--p_",
        "outputId": "b610153f-c6fe-4091-a11d-a47495eaef56",
        "colab": {
          "base_uri": "https://localhost:8080/",
          "height": 185,
          "referenced_widgets": [
            "da8300f564024a3fbe009ce2435d73d4",
            "48bb91a2fb254a61aef0c1630b413707",
            "8c6ff93e61ba411eb19fffdfba905f05",
            "f6022427f0e64b11a528ff3cb9962265",
            "7cecd7b987c9482d809ec61e5bd34389",
            "062f627d87704b0e9958c7aa6289f725",
            "f33c8b7dd33645cdab22ecc989732f62",
            "c02f96ece115455391fc1dc94c4afd0c",
            "15504456b0224d2b860aa70c6600b619",
            "121eb061672c45e5aed4202a721f4b6b",
            "b0ebbdedd9184a5a814ebd641dc3516d",
            "a85c34e331f54b929b5be4da2b90683e",
            "567646e4d6274b97affedf397318b17c",
            "e5427fff0945477292f0ecba1da295df",
            "1e76c3661efa4245af8116251bac94d2",
            "462f5cf17bd64d309f417d4c79599af6",
            "ea1f57a9c7d948e8b669dd71bbf195e6",
            "6061719ef9a7434399a5a3f1fb6b1342",
            "fdd52e9effed4a6d8b6e943ab77fc0b8",
            "77be8a96f37c4c2bb30e6fbb3fff7172",
            "1bbea0b668b54988b152960a5feaaf05",
            "0d7afe9ad32d4a178be3d3005597f460"
          ]
        }
      },
      "execution_count": null,
      "outputs": [
        {
          "output_type": "stream",
          "name": "stderr",
          "text": [
            "<ipython-input-78-e6884a602f37>:4: TqdmDeprecationWarning: This function will be removed in tqdm==5.0.0\n",
            "Please use `tqdm.notebook.tqdm` instead of `tqdm.tqdm_notebook`\n",
            "  for _fname in tqdm_notebook(train_positive[:n_train], desc=\"Crunching +ve samples: \"):\n"
          ]
        },
        {
          "output_type": "display_data",
          "data": {
            "text/plain": [
              "Crunching +ve samples:   0%|          | 0/2500 [00:00<?, ?it/s]"
            ],
            "application/vnd.jupyter.widget-view+json": {
              "version_major": 2,
              "version_minor": 0,
              "model_id": "da8300f564024a3fbe009ce2435d73d4"
            }
          },
          "metadata": {}
        },
        {
          "output_type": "stream",
          "name": "stderr",
          "text": [
            "<ipython-input-78-e6884a602f37>:13: TqdmDeprecationWarning: This function will be removed in tqdm==5.0.0\n",
            "Please use `tqdm.notebook.tqdm` instead of `tqdm.tqdm_notebook`\n",
            "  for _fname in tqdm_notebook(train_negative[:n_train], desc=\"Crunching -ve samples: \"):\n"
          ]
        },
        {
          "output_type": "display_data",
          "data": {
            "text/plain": [
              "Crunching -ve samples:   0%|          | 0/2500 [00:00<?, ?it/s]"
            ],
            "application/vnd.jupyter.widget-view+json": {
              "version_major": 2,
              "version_minor": 0,
              "model_id": "a85c34e331f54b929b5be4da2b90683e"
            }
          },
          "metadata": {}
        }
      ]
    },
    {
      "cell_type": "code",
      "source": [
        "print('Top k frequent words from positive class:\\n\\n')\n",
        "for w, c in positive_word_counts.most_common(10):\n",
        "    print(f\"{w}\\t{c}\")\n",
        "\n",
        "print('\\n\\nTop k frequent words from negative class:\\n\\n')\n",
        "for w, c in negative_word_counts.most_common(10):\n",
        "    print(f\"{w}\\t{c}\")"
      ],
      "metadata": {
        "id": "srbxsnKn_apx",
        "outputId": "07b67682-c774-40e8-b420-c6af4eaf3794",
        "colab": {
          "base_uri": "https://localhost:8080/"
        }
      },
      "execution_count": null,
      "outputs": [
        {
          "output_type": "stream",
          "name": "stdout",
          "text": [
            "Top k frequent words from positive class:\n",
            "\n",
            "\n",
            "the\t30433\n",
            ",\t28993\n",
            ".\t27752\n",
            "and\t17496\n",
            "a\t16135\n",
            "of\t15258\n",
            "to\t13456\n",
            "is\t11907\n",
            "in\t9560\n",
            "it\t7691\n",
            "\n",
            "\n",
            "Top k frequent words from negative class:\n",
            "\n",
            "\n",
            "the\t27443\n",
            ".\t27300\n",
            ",\t25763\n",
            "a\t15015\n",
            "and\t13763\n",
            "to\t13389\n",
            "of\t13264\n",
            "is\t10154\n",
            "I\t8641\n",
            "in\t7857\n"
          ]
        }
      ]
    },
    {
      "cell_type": "code",
      "source": [
        "len_corpus_pos = sum(positive_word_counts.values())\n",
        "len_corpus_neg = sum(negative_word_counts.values())\n",
        "V_pos = len(positive_word_counts)\n",
        "V_neg = len(negative_word_counts)\n",
        "alpha = 0.1\n",
        "log_p_vocab_pos = defaultdict(\n",
        "    lambda: np.log(alpha/len_corpus_pos),\n",
        "    {w:np.log((alpha + c)/(V_pos*alpha + len_corpus_pos)) for w,c in positive_word_counts.items()}\n",
        ")\n",
        "log_p_vocab_neg = defaultdict(\n",
        "    lambda: np.log(alpha/len_corpus_neg),\n",
        "    {w:np.log((alpha + c)/(V_neg*alpha + len_corpus_neg)) for w,c in negative_word_counts.items()})"
      ],
      "metadata": {
        "id": "DcLy9qtN_qES"
      },
      "execution_count": null,
      "outputs": []
    },
    {
      "cell_type": "code",
      "source": [
        "p_data_pos = len(train_positive)/(len(train_positive) + len(train_negative))\n",
        "print(f\"Prob. of +ve sentiment in our dataset: {p_data_pos}\")"
      ],
      "metadata": {
        "id": "Amktlvfz_vjG",
        "outputId": "23b68ad4-c427-4136-dabc-6251d09a0c33",
        "colab": {
          "base_uri": "https://localhost:8080/"
        }
      },
      "execution_count": null,
      "outputs": [
        {
          "output_type": "stream",
          "name": "stdout",
          "text": [
            "Prob. of +ve sentiment in our dataset: 0.5\n"
          ]
        }
      ]
    },
    {
      "cell_type": "code",
      "source": [
        "def get_prob_pos(doc):\n",
        "    text = doc.strip()\n",
        "    text = re_html_cleaner.sub(\" \", text)\n",
        "    tokens = nltk.word_tokenize(text)\n",
        "    p_pos = 1\n",
        "    p_neg = 1\n",
        "    for token in tokens:\n",
        "        p_pos += log_p_vocab_pos[token]\n",
        "        p_neg += log_p_vocab_neg[token]\n",
        "\n",
        "    return 1.0*(p_pos >= p_neg) #/(p_pos+p_neg)"
      ],
      "metadata": {
        "id": "Sy6CKdiT_3eD"
      },
      "execution_count": null,
      "outputs": []
    },
    {
      "cell_type": "code",
      "source": [
        "results = []\n",
        "for _fname in tqdm_notebook(test_positive[:n_test], desc=\"Classifying test data: \"):\n",
        "    with open(_fname) as f:\n",
        "        results.append((1, get_prob_pos(f.read())))\n",
        "\n",
        "\n",
        "for _fname in tqdm_notebook(test_negative[:n_test], desc=\"Classifying test data: \"):\n",
        "    with open(_fname) as f:\n",
        "        results.append((0, get_prob_pos(f.read())))"
      ],
      "metadata": {
        "id": "bxmkJc9X_7XE",
        "outputId": "a57e740c-3176-49ec-e4a3-a4960822310f",
        "colab": {
          "base_uri": "https://localhost:8080/",
          "height": 185,
          "referenced_widgets": [
            "2bf8cae811974563827f21717004d0df",
            "20a95ebf82d14d8092fd93351253aa3a",
            "9f6b81778bbf42f8a485f8f881515b3b",
            "37d139229a4f4b0eb81308c78aebf5b6",
            "90532276bc324f4dbd19d6e4044ad19c",
            "272be464725e4c3faab6c5cd3c88d416",
            "1294c550ad1e453ba739872bb7ae1b3f",
            "62b3a9bc384c4551b3767d3a7fbd39b6",
            "468b89890e01465eac33a2627b9daeee",
            "a4580270d39040a59ded771b8f47fe23",
            "6e8978c53fe64975b43a581fe7bf8133",
            "6b916e227d4b4ccd8c22ee522ec8e2b6",
            "498ba727812d45638860fdf33b65f6be",
            "2648040311b547bb9d821d001689c4be",
            "d207ed98aed04f2cbf74df566a5dc98b",
            "c7c105001ef5402bacbfd45579f37523",
            "c0e3a40b604942178d617c24d09fee87",
            "d77235952fa34fab9823d9c046413f2b",
            "098905571e464779af2c74529a07152c",
            "1b5dbe1574fe4f769d318ef8cd8968e4",
            "2f36adcc162746d0a353d37b5b52042b",
            "cd5adc72c0204750b5d64fc1032a5557"
          ]
        }
      },
      "execution_count": null,
      "outputs": [
        {
          "output_type": "stream",
          "name": "stderr",
          "text": [
            "<ipython-input-83-d2d5dddd0d49>:2: TqdmDeprecationWarning: This function will be removed in tqdm==5.0.0\n",
            "Please use `tqdm.notebook.tqdm` instead of `tqdm.tqdm_notebook`\n",
            "  for _fname in tqdm_notebook(test_positive[:n_test], desc=\"Classifying test data: \"):\n"
          ]
        },
        {
          "output_type": "display_data",
          "data": {
            "text/plain": [
              "Classifying test data:   0%|          | 0/2500 [00:00<?, ?it/s]"
            ],
            "application/vnd.jupyter.widget-view+json": {
              "version_major": 2,
              "version_minor": 0,
              "model_id": "2bf8cae811974563827f21717004d0df"
            }
          },
          "metadata": {}
        },
        {
          "output_type": "stream",
          "name": "stderr",
          "text": [
            "<ipython-input-83-d2d5dddd0d49>:7: TqdmDeprecationWarning: This function will be removed in tqdm==5.0.0\n",
            "Please use `tqdm.notebook.tqdm` instead of `tqdm.tqdm_notebook`\n",
            "  for _fname in tqdm_notebook(test_negative[:n_test], desc=\"Classifying test data: \"):\n"
          ]
        },
        {
          "output_type": "display_data",
          "data": {
            "text/plain": [
              "Classifying test data:   0%|          | 0/2500 [00:00<?, ?it/s]"
            ],
            "application/vnd.jupyter.widget-view+json": {
              "version_major": 2,
              "version_minor": 0,
              "model_id": "6b916e227d4b4ccd8c22ee522ec8e2b6"
            }
          },
          "metadata": {}
        }
      ]
    },
    {
      "cell_type": "markdown",
      "source": [
        "PERFORMANCE EVALUATION OF OUR MODEL"
      ],
      "metadata": {
        "id": "gBI_BsrNAD2o"
      }
    },
    {
      "cell_type": "code",
      "source": [
        "true_pos = 0\n",
        "false_pos = 0\n",
        "true_neg = 0\n",
        "false_neg = 0\n",
        "for true_label, pred_label in results:\n",
        "    if true_label == 1 and pred_label == 1:\n",
        "        true_pos += 1\n",
        "    elif true_label == 1 and pred_label == 0:\n",
        "        false_neg += 1\n",
        "    elif true_label == 0 and pred_label == 1:\n",
        "        false_pos += 1\n",
        "    elif true_label == 0 and pred_label == 0:\n",
        "        true_neg += 1"
      ],
      "metadata": {
        "id": "Tg-8d9RxAH4i"
      },
      "execution_count": null,
      "outputs": []
    },
    {
      "cell_type": "code",
      "source": [
        "print(f\"Accuracy: {(true_pos + true_neg)/(true_pos + true_neg + false_pos + false_neg):0.4F}\")\n",
        "print(f\"Recall: {(true_pos)/(true_pos + false_neg):0.4F}\")\n",
        "print(f\"Precision: {(true_pos)/(true_pos + false_pos):0.4F}\")"
      ],
      "metadata": {
        "id": "cQ6mfUZZALo-",
        "outputId": "691c8181-a9d2-4dcc-b0b5-27b4b8026bc9",
        "colab": {
          "base_uri": "https://localhost:8080/"
        }
      },
      "execution_count": null,
      "outputs": [
        {
          "output_type": "stream",
          "name": "stdout",
          "text": [
            "Accuracy: 0.7860\n",
            "Recall: 0.7224\n",
            "Precision: 0.8277\n"
          ]
        }
      ]
    },
    {
      "cell_type": "markdown",
      "source": [
        "CLASSIFICATION METRICS"
      ],
      "metadata": {
        "id": "yhEjeIYLAPTI"
      }
    },
    {
      "cell_type": "code",
      "source": [
        "from sklearn.metrics import accuracy_score, confusion_matrix"
      ],
      "metadata": {
        "id": "IKAybLhKASim"
      },
      "execution_count": null,
      "outputs": []
    },
    {
      "cell_type": "code",
      "source": [
        "results[:10]"
      ],
      "metadata": {
        "id": "fNxvVzbxAW9L",
        "outputId": "ecf7c2a1-cb05-4b90-d825-4466e7cde312",
        "colab": {
          "base_uri": "https://localhost:8080/"
        }
      },
      "execution_count": null,
      "outputs": [
        {
          "output_type": "execute_result",
          "data": {
            "text/plain": [
              "[(1, 1.0),\n",
              " (1, 1.0),\n",
              " (1, 1.0),\n",
              " (1, 0.0),\n",
              " (1, 1.0),\n",
              " (1, 1.0),\n",
              " (1, 0.0),\n",
              " (1, 1.0),\n",
              " (1, 1.0),\n",
              " (1, 1.0)]"
            ]
          },
          "metadata": {},
          "execution_count": 87
        }
      ]
    },
    {
      "cell_type": "code",
      "source": [
        "u, v = zip((1, 1), (1, 0), (0, 1), (0, 1))\n",
        "print(u)\n",
        "print(v)"
      ],
      "metadata": {
        "id": "1elJ8d9wAagW",
        "outputId": "3337ab28-f923-4a3b-a0b3-fc029fcc2f4e",
        "colab": {
          "base_uri": "https://localhost:8080/"
        }
      },
      "execution_count": null,
      "outputs": [
        {
          "output_type": "stream",
          "name": "stdout",
          "text": [
            "(1, 1, 0, 0)\n",
            "(1, 0, 1, 1)\n"
          ]
        }
      ]
    },
    {
      "cell_type": "code",
      "source": [
        "# Use zip to collect the first and second elemnts of each tuple within results\n",
        "# array to two separate lists\n",
        "y_true, y_pred = zip(*results)"
      ],
      "metadata": {
        "id": "5kFwiHyOAd_c"
      },
      "execution_count": null,
      "outputs": []
    },
    {
      "cell_type": "code",
      "source": [
        "print(\"Accuracy (using sklearn package):\", accuracy_score(y_true, y_pred))"
      ],
      "metadata": {
        "id": "mPxWQlLVAgnv",
        "outputId": "b138bb31-5921-4fdc-8610-415eeda96282",
        "colab": {
          "base_uri": "https://localhost:8080/"
        }
      },
      "execution_count": null,
      "outputs": [
        {
          "output_type": "stream",
          "name": "stdout",
          "text": [
            "Accuracy (using sklearn package): 0.786\n"
          ]
        }
      ]
    },
    {
      "cell_type": "code",
      "source": [
        "print(confusion_matrix(y_true, y_pred))"
      ],
      "metadata": {
        "id": "BpDesDXaAj8S",
        "outputId": "d9103400-a417-4cf9-9e60-71cddd80c23b",
        "colab": {
          "base_uri": "https://localhost:8080/"
        }
      },
      "execution_count": null,
      "outputs": [
        {
          "output_type": "stream",
          "name": "stdout",
          "text": [
            "[[2124  376]\n",
            " [ 694 1806]]\n"
          ]
        }
      ]
    }
  ]
}